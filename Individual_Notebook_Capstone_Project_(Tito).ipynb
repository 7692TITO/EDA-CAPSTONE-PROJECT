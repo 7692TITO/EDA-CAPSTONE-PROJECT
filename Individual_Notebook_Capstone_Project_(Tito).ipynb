{
  "nbformat": 4,
  "nbformat_minor": 0,
  "metadata": {
    "kernelspec": {
      "display_name": "Python 3",
      "language": "python",
      "name": "python3"
    },
    "language_info": {
      "codemirror_mode": {
        "name": "ipython",
        "version": 3
      },
      "file_extension": ".py",
      "mimetype": "text/x-python",
      "name": "python",
      "nbconvert_exporter": "python",
      "pygments_lexer": "ipython3",
      "version": "3.6.6"
    },
    "colab": {
      "name": "Individual Notebook - Capstone Project (Tito).ipynb ",
      "provenance": [],
      "collapsed_sections": []
    }
  },
  "cells": [
    {
      "cell_type": "markdown",
      "metadata": {
        "id": "Y06xIdG26kRF"
      },
      "source": [
        "## <b> Have you ever wondered when the best time of year to book a hotel room is? Or the optimal length of stay in order to get the best daily rate? What if you wanted to predict whether or not a hotel was likely to receive a disproportionately high number of special requests? This hotel booking dataset can help you explore those questions!\n",
        "\n",
        "## <b>This data set contains booking information for a city hotel and a resort hotel, and includes information such as when the booking was made, length of stay, the number of adults, children, and/or babies, and the number of available parking spaces, among other things. All personally identifying information has been removed from the data. </b>\n",
        "\n",
        "## <b> Explore and analyze the data to discover important factors that govern the bookings. </b>"
      ]
    },
    {
      "cell_type": "code",
      "metadata": {
        "id": "dByMsuzT8Tnw"
      },
      "source": [
        "import numpy as np                              # Import all the libraries required for EDA\n",
        "import pandas as pd\n",
        "import matplotlib.pyplot as plt\n",
        "import seaborn as sns\n"
      ],
      "execution_count": 1,
      "outputs": []
    },
    {
      "cell_type": "code",
      "source": [
        "from google.colab import drive                 # Mount the Drive\n",
        "drive.mount('/content/drive')"
      ],
      "metadata": {
        "colab": {
          "base_uri": "https://localhost:8080/"
        },
        "id": "lSbLOWImuayI",
        "outputId": "8f0530e8-eaa7-4925-c5fe-b8c3cdaec0c7"
      },
      "execution_count": 2,
      "outputs": [
        {
          "output_type": "stream",
          "name": "stdout",
          "text": [
            "Mounted at /content/drive\n"
          ]
        }
      ]
    },
    {
      "cell_type": "code",
      "source": [
        "df = pd.read_csv('/content/drive/MyDrive/Hotel Booking Analysis - Tito Varghese/Hotel Bookings.csv')   # Syntax to read the csv file\n",
        "                                                                        # df is the Dataframe name given to our dataset"
      ],
      "metadata": {
        "id": "GH8bes1OugKE"
      },
      "execution_count": 3,
      "outputs": []
    },
    {
      "cell_type": "code",
      "source": [
        "df.head()"
      ],
      "metadata": {
        "colab": {
          "base_uri": "https://localhost:8080/",
          "height": 386
        },
        "id": "cDdqp1IluuMi",
        "outputId": "a7be661e-cbdd-410a-d59d-ed6114ea230a"
      },
      "execution_count": 4,
      "outputs": [
        {
          "output_type": "execute_result",
          "data": {
            "text/plain": [
              "          hotel  is_canceled  lead_time  arrival_date_year arrival_date_month  \\\n",
              "0  Resort Hotel            0        342               2015               July   \n",
              "1  Resort Hotel            0        737               2015               July   \n",
              "2  Resort Hotel            0          7               2015               July   \n",
              "3  Resort Hotel            0         13               2015               July   \n",
              "4  Resort Hotel            0         14               2015               July   \n",
              "\n",
              "   arrival_date_week_number  arrival_date_day_of_month  \\\n",
              "0                        27                          1   \n",
              "1                        27                          1   \n",
              "2                        27                          1   \n",
              "3                        27                          1   \n",
              "4                        27                          1   \n",
              "\n",
              "   stays_in_weekend_nights  stays_in_week_nights  adults  ...  deposit_type  \\\n",
              "0                        0                     0       2  ...    No Deposit   \n",
              "1                        0                     0       2  ...    No Deposit   \n",
              "2                        0                     1       1  ...    No Deposit   \n",
              "3                        0                     1       1  ...    No Deposit   \n",
              "4                        0                     2       2  ...    No Deposit   \n",
              "\n",
              "   agent company days_in_waiting_list customer_type   adr  \\\n",
              "0    NaN     NaN                    0     Transient   0.0   \n",
              "1    NaN     NaN                    0     Transient   0.0   \n",
              "2    NaN     NaN                    0     Transient  75.0   \n",
              "3  304.0     NaN                    0     Transient  75.0   \n",
              "4  240.0     NaN                    0     Transient  98.0   \n",
              "\n",
              "   required_car_parking_spaces  total_of_special_requests  reservation_status  \\\n",
              "0                            0                          0           Check-Out   \n",
              "1                            0                          0           Check-Out   \n",
              "2                            0                          0           Check-Out   \n",
              "3                            0                          0           Check-Out   \n",
              "4                            0                          1           Check-Out   \n",
              "\n",
              "  reservation_status_date  \n",
              "0              2015-07-01  \n",
              "1              2015-07-01  \n",
              "2              2015-07-02  \n",
              "3              2015-07-02  \n",
              "4              2015-07-03  \n",
              "\n",
              "[5 rows x 32 columns]"
            ],
            "text/html": [
              "\n",
              "  <div id=\"df-e1a7643e-0205-4ee3-bbc7-2168ab0f9313\">\n",
              "    <div class=\"colab-df-container\">\n",
              "      <div>\n",
              "<style scoped>\n",
              "    .dataframe tbody tr th:only-of-type {\n",
              "        vertical-align: middle;\n",
              "    }\n",
              "\n",
              "    .dataframe tbody tr th {\n",
              "        vertical-align: top;\n",
              "    }\n",
              "\n",
              "    .dataframe thead th {\n",
              "        text-align: right;\n",
              "    }\n",
              "</style>\n",
              "<table border=\"1\" class=\"dataframe\">\n",
              "  <thead>\n",
              "    <tr style=\"text-align: right;\">\n",
              "      <th></th>\n",
              "      <th>hotel</th>\n",
              "      <th>is_canceled</th>\n",
              "      <th>lead_time</th>\n",
              "      <th>arrival_date_year</th>\n",
              "      <th>arrival_date_month</th>\n",
              "      <th>arrival_date_week_number</th>\n",
              "      <th>arrival_date_day_of_month</th>\n",
              "      <th>stays_in_weekend_nights</th>\n",
              "      <th>stays_in_week_nights</th>\n",
              "      <th>adults</th>\n",
              "      <th>...</th>\n",
              "      <th>deposit_type</th>\n",
              "      <th>agent</th>\n",
              "      <th>company</th>\n",
              "      <th>days_in_waiting_list</th>\n",
              "      <th>customer_type</th>\n",
              "      <th>adr</th>\n",
              "      <th>required_car_parking_spaces</th>\n",
              "      <th>total_of_special_requests</th>\n",
              "      <th>reservation_status</th>\n",
              "      <th>reservation_status_date</th>\n",
              "    </tr>\n",
              "  </thead>\n",
              "  <tbody>\n",
              "    <tr>\n",
              "      <th>0</th>\n",
              "      <td>Resort Hotel</td>\n",
              "      <td>0</td>\n",
              "      <td>342</td>\n",
              "      <td>2015</td>\n",
              "      <td>July</td>\n",
              "      <td>27</td>\n",
              "      <td>1</td>\n",
              "      <td>0</td>\n",
              "      <td>0</td>\n",
              "      <td>2</td>\n",
              "      <td>...</td>\n",
              "      <td>No Deposit</td>\n",
              "      <td>NaN</td>\n",
              "      <td>NaN</td>\n",
              "      <td>0</td>\n",
              "      <td>Transient</td>\n",
              "      <td>0.0</td>\n",
              "      <td>0</td>\n",
              "      <td>0</td>\n",
              "      <td>Check-Out</td>\n",
              "      <td>2015-07-01</td>\n",
              "    </tr>\n",
              "    <tr>\n",
              "      <th>1</th>\n",
              "      <td>Resort Hotel</td>\n",
              "      <td>0</td>\n",
              "      <td>737</td>\n",
              "      <td>2015</td>\n",
              "      <td>July</td>\n",
              "      <td>27</td>\n",
              "      <td>1</td>\n",
              "      <td>0</td>\n",
              "      <td>0</td>\n",
              "      <td>2</td>\n",
              "      <td>...</td>\n",
              "      <td>No Deposit</td>\n",
              "      <td>NaN</td>\n",
              "      <td>NaN</td>\n",
              "      <td>0</td>\n",
              "      <td>Transient</td>\n",
              "      <td>0.0</td>\n",
              "      <td>0</td>\n",
              "      <td>0</td>\n",
              "      <td>Check-Out</td>\n",
              "      <td>2015-07-01</td>\n",
              "    </tr>\n",
              "    <tr>\n",
              "      <th>2</th>\n",
              "      <td>Resort Hotel</td>\n",
              "      <td>0</td>\n",
              "      <td>7</td>\n",
              "      <td>2015</td>\n",
              "      <td>July</td>\n",
              "      <td>27</td>\n",
              "      <td>1</td>\n",
              "      <td>0</td>\n",
              "      <td>1</td>\n",
              "      <td>1</td>\n",
              "      <td>...</td>\n",
              "      <td>No Deposit</td>\n",
              "      <td>NaN</td>\n",
              "      <td>NaN</td>\n",
              "      <td>0</td>\n",
              "      <td>Transient</td>\n",
              "      <td>75.0</td>\n",
              "      <td>0</td>\n",
              "      <td>0</td>\n",
              "      <td>Check-Out</td>\n",
              "      <td>2015-07-02</td>\n",
              "    </tr>\n",
              "    <tr>\n",
              "      <th>3</th>\n",
              "      <td>Resort Hotel</td>\n",
              "      <td>0</td>\n",
              "      <td>13</td>\n",
              "      <td>2015</td>\n",
              "      <td>July</td>\n",
              "      <td>27</td>\n",
              "      <td>1</td>\n",
              "      <td>0</td>\n",
              "      <td>1</td>\n",
              "      <td>1</td>\n",
              "      <td>...</td>\n",
              "      <td>No Deposit</td>\n",
              "      <td>304.0</td>\n",
              "      <td>NaN</td>\n",
              "      <td>0</td>\n",
              "      <td>Transient</td>\n",
              "      <td>75.0</td>\n",
              "      <td>0</td>\n",
              "      <td>0</td>\n",
              "      <td>Check-Out</td>\n",
              "      <td>2015-07-02</td>\n",
              "    </tr>\n",
              "    <tr>\n",
              "      <th>4</th>\n",
              "      <td>Resort Hotel</td>\n",
              "      <td>0</td>\n",
              "      <td>14</td>\n",
              "      <td>2015</td>\n",
              "      <td>July</td>\n",
              "      <td>27</td>\n",
              "      <td>1</td>\n",
              "      <td>0</td>\n",
              "      <td>2</td>\n",
              "      <td>2</td>\n",
              "      <td>...</td>\n",
              "      <td>No Deposit</td>\n",
              "      <td>240.0</td>\n",
              "      <td>NaN</td>\n",
              "      <td>0</td>\n",
              "      <td>Transient</td>\n",
              "      <td>98.0</td>\n",
              "      <td>0</td>\n",
              "      <td>1</td>\n",
              "      <td>Check-Out</td>\n",
              "      <td>2015-07-03</td>\n",
              "    </tr>\n",
              "  </tbody>\n",
              "</table>\n",
              "<p>5 rows × 32 columns</p>\n",
              "</div>\n",
              "      <button class=\"colab-df-convert\" onclick=\"convertToInteractive('df-e1a7643e-0205-4ee3-bbc7-2168ab0f9313')\"\n",
              "              title=\"Convert this dataframe to an interactive table.\"\n",
              "              style=\"display:none;\">\n",
              "        \n",
              "  <svg xmlns=\"http://www.w3.org/2000/svg\" height=\"24px\"viewBox=\"0 0 24 24\"\n",
              "       width=\"24px\">\n",
              "    <path d=\"M0 0h24v24H0V0z\" fill=\"none\"/>\n",
              "    <path d=\"M18.56 5.44l.94 2.06.94-2.06 2.06-.94-2.06-.94-.94-2.06-.94 2.06-2.06.94zm-11 1L8.5 8.5l.94-2.06 2.06-.94-2.06-.94L8.5 2.5l-.94 2.06-2.06.94zm10 10l.94 2.06.94-2.06 2.06-.94-2.06-.94-.94-2.06-.94 2.06-2.06.94z\"/><path d=\"M17.41 7.96l-1.37-1.37c-.4-.4-.92-.59-1.43-.59-.52 0-1.04.2-1.43.59L10.3 9.45l-7.72 7.72c-.78.78-.78 2.05 0 2.83L4 21.41c.39.39.9.59 1.41.59.51 0 1.02-.2 1.41-.59l7.78-7.78 2.81-2.81c.8-.78.8-2.07 0-2.86zM5.41 20L4 18.59l7.72-7.72 1.47 1.35L5.41 20z\"/>\n",
              "  </svg>\n",
              "      </button>\n",
              "      \n",
              "  <style>\n",
              "    .colab-df-container {\n",
              "      display:flex;\n",
              "      flex-wrap:wrap;\n",
              "      gap: 12px;\n",
              "    }\n",
              "\n",
              "    .colab-df-convert {\n",
              "      background-color: #E8F0FE;\n",
              "      border: none;\n",
              "      border-radius: 50%;\n",
              "      cursor: pointer;\n",
              "      display: none;\n",
              "      fill: #1967D2;\n",
              "      height: 32px;\n",
              "      padding: 0 0 0 0;\n",
              "      width: 32px;\n",
              "    }\n",
              "\n",
              "    .colab-df-convert:hover {\n",
              "      background-color: #E2EBFA;\n",
              "      box-shadow: 0px 1px 2px rgba(60, 64, 67, 0.3), 0px 1px 3px 1px rgba(60, 64, 67, 0.15);\n",
              "      fill: #174EA6;\n",
              "    }\n",
              "\n",
              "    [theme=dark] .colab-df-convert {\n",
              "      background-color: #3B4455;\n",
              "      fill: #D2E3FC;\n",
              "    }\n",
              "\n",
              "    [theme=dark] .colab-df-convert:hover {\n",
              "      background-color: #434B5C;\n",
              "      box-shadow: 0px 1px 3px 1px rgba(0, 0, 0, 0.15);\n",
              "      filter: drop-shadow(0px 1px 2px rgba(0, 0, 0, 0.3));\n",
              "      fill: #FFFFFF;\n",
              "    }\n",
              "  </style>\n",
              "\n",
              "      <script>\n",
              "        const buttonEl =\n",
              "          document.querySelector('#df-e1a7643e-0205-4ee3-bbc7-2168ab0f9313 button.colab-df-convert');\n",
              "        buttonEl.style.display =\n",
              "          google.colab.kernel.accessAllowed ? 'block' : 'none';\n",
              "\n",
              "        async function convertToInteractive(key) {\n",
              "          const element = document.querySelector('#df-e1a7643e-0205-4ee3-bbc7-2168ab0f9313');\n",
              "          const dataTable =\n",
              "            await google.colab.kernel.invokeFunction('convertToInteractive',\n",
              "                                                     [key], {});\n",
              "          if (!dataTable) return;\n",
              "\n",
              "          const docLinkHtml = 'Like what you see? Visit the ' +\n",
              "            '<a target=\"_blank\" href=https://colab.research.google.com/notebooks/data_table.ipynb>data table notebook</a>'\n",
              "            + ' to learn more about interactive tables.';\n",
              "          element.innerHTML = '';\n",
              "          dataTable['output_type'] = 'display_data';\n",
              "          await google.colab.output.renderOutput(dataTable, element);\n",
              "          const docLink = document.createElement('div');\n",
              "          docLink.innerHTML = docLinkHtml;\n",
              "          element.appendChild(docLink);\n",
              "        }\n",
              "      </script>\n",
              "    </div>\n",
              "  </div>\n",
              "  "
            ]
          },
          "metadata": {},
          "execution_count": 4
        }
      ]
    },
    {
      "cell_type": "code",
      "source": [
        "df.shape"
      ],
      "metadata": {
        "colab": {
          "base_uri": "https://localhost:8080/"
        },
        "id": "rn-wsumcHnqG",
        "outputId": "9938ef7e-5c57-4e66-f4de-80bc8e551228"
      },
      "execution_count": 5,
      "outputs": [
        {
          "output_type": "execute_result",
          "data": {
            "text/plain": [
              "(119390, 32)"
            ]
          },
          "metadata": {},
          "execution_count": 5
        }
      ]
    },
    {
      "cell_type": "code",
      "source": [
        "df.info()"
      ],
      "metadata": {
        "colab": {
          "base_uri": "https://localhost:8080/"
        },
        "id": "wbrGiVSlu3sT",
        "outputId": "434d5ff3-8ec1-4038-99e5-c4e7f9dab4cf"
      },
      "execution_count": 6,
      "outputs": [
        {
          "output_type": "stream",
          "name": "stdout",
          "text": [
            "<class 'pandas.core.frame.DataFrame'>\n",
            "RangeIndex: 119390 entries, 0 to 119389\n",
            "Data columns (total 32 columns):\n",
            " #   Column                          Non-Null Count   Dtype  \n",
            "---  ------                          --------------   -----  \n",
            " 0   hotel                           119390 non-null  object \n",
            " 1   is_canceled                     119390 non-null  int64  \n",
            " 2   lead_time                       119390 non-null  int64  \n",
            " 3   arrival_date_year               119390 non-null  int64  \n",
            " 4   arrival_date_month              119390 non-null  object \n",
            " 5   arrival_date_week_number        119390 non-null  int64  \n",
            " 6   arrival_date_day_of_month       119390 non-null  int64  \n",
            " 7   stays_in_weekend_nights         119390 non-null  int64  \n",
            " 8   stays_in_week_nights            119390 non-null  int64  \n",
            " 9   adults                          119390 non-null  int64  \n",
            " 10  children                        119386 non-null  float64\n",
            " 11  babies                          119390 non-null  int64  \n",
            " 12  meal                            119390 non-null  object \n",
            " 13  country                         118902 non-null  object \n",
            " 14  market_segment                  119390 non-null  object \n",
            " 15  distribution_channel            119390 non-null  object \n",
            " 16  is_repeated_guest               119390 non-null  int64  \n",
            " 17  previous_cancellations          119390 non-null  int64  \n",
            " 18  previous_bookings_not_canceled  119390 non-null  int64  \n",
            " 19  reserved_room_type              119390 non-null  object \n",
            " 20  assigned_room_type              119390 non-null  object \n",
            " 21  booking_changes                 119390 non-null  int64  \n",
            " 22  deposit_type                    119390 non-null  object \n",
            " 23  agent                           103050 non-null  float64\n",
            " 24  company                         6797 non-null    float64\n",
            " 25  days_in_waiting_list            119390 non-null  int64  \n",
            " 26  customer_type                   119390 non-null  object \n",
            " 27  adr                             119390 non-null  float64\n",
            " 28  required_car_parking_spaces     119390 non-null  int64  \n",
            " 29  total_of_special_requests       119390 non-null  int64  \n",
            " 30  reservation_status              119390 non-null  object \n",
            " 31  reservation_status_date         119390 non-null  object \n",
            "dtypes: float64(4), int64(16), object(12)\n",
            "memory usage: 29.1+ MB\n"
          ]
        }
      ]
    },
    {
      "cell_type": "markdown",
      "source": [
        "# **Data Cleaning**"
      ],
      "metadata": {
        "id": "TI8mTKfGltah"
      }
    },
    {
      "cell_type": "markdown",
      "source": [
        "##  a) **Checking for data type**"
      ],
      "metadata": {
        "id": "kfhInJgaaXVD"
      }
    },
    {
      "cell_type": "code",
      "source": [
        "df.dtypes"
      ],
      "metadata": {
        "colab": {
          "base_uri": "https://localhost:8080/"
        },
        "id": "yi7L7TJvau-k",
        "outputId": "7049542b-b5a5-4173-9959-fabc4f0bc889"
      },
      "execution_count": 7,
      "outputs": [
        {
          "output_type": "execute_result",
          "data": {
            "text/plain": [
              "hotel                              object\n",
              "is_canceled                         int64\n",
              "lead_time                           int64\n",
              "arrival_date_year                   int64\n",
              "arrival_date_month                 object\n",
              "arrival_date_week_number            int64\n",
              "arrival_date_day_of_month           int64\n",
              "stays_in_weekend_nights             int64\n",
              "stays_in_week_nights                int64\n",
              "adults                              int64\n",
              "children                          float64\n",
              "babies                              int64\n",
              "meal                               object\n",
              "country                            object\n",
              "market_segment                     object\n",
              "distribution_channel               object\n",
              "is_repeated_guest                   int64\n",
              "previous_cancellations              int64\n",
              "previous_bookings_not_canceled      int64\n",
              "reserved_room_type                 object\n",
              "assigned_room_type                 object\n",
              "booking_changes                     int64\n",
              "deposit_type                       object\n",
              "agent                             float64\n",
              "company                           float64\n",
              "days_in_waiting_list                int64\n",
              "customer_type                      object\n",
              "adr                               float64\n",
              "required_car_parking_spaces         int64\n",
              "total_of_special_requests           int64\n",
              "reservation_status                 object\n",
              "reservation_status_date            object\n",
              "dtype: object"
            ]
          },
          "metadata": {},
          "execution_count": 7
        }
      ]
    },
    {
      "cell_type": "code",
      "source": [
        "df['reservation_status_date']= pd.to_datetime(df['reservation_status_date'], format = '%Y-%m-%d') #change the datatype of reservation status date to datetime"
      ],
      "metadata": {
        "id": "j-rvCx-_egRB"
      },
      "execution_count": 8,
      "outputs": []
    },
    {
      "cell_type": "code",
      "source": [
        "df.info()"
      ],
      "metadata": {
        "colab": {
          "base_uri": "https://localhost:8080/"
        },
        "id": "VKvbRaoPpOwh",
        "outputId": "fc55b41b-3574-42d8-e007-9ab5f55695e5"
      },
      "execution_count": 9,
      "outputs": [
        {
          "output_type": "stream",
          "name": "stdout",
          "text": [
            "<class 'pandas.core.frame.DataFrame'>\n",
            "RangeIndex: 119390 entries, 0 to 119389\n",
            "Data columns (total 32 columns):\n",
            " #   Column                          Non-Null Count   Dtype         \n",
            "---  ------                          --------------   -----         \n",
            " 0   hotel                           119390 non-null  object        \n",
            " 1   is_canceled                     119390 non-null  int64         \n",
            " 2   lead_time                       119390 non-null  int64         \n",
            " 3   arrival_date_year               119390 non-null  int64         \n",
            " 4   arrival_date_month              119390 non-null  object        \n",
            " 5   arrival_date_week_number        119390 non-null  int64         \n",
            " 6   arrival_date_day_of_month       119390 non-null  int64         \n",
            " 7   stays_in_weekend_nights         119390 non-null  int64         \n",
            " 8   stays_in_week_nights            119390 non-null  int64         \n",
            " 9   adults                          119390 non-null  int64         \n",
            " 10  children                        119386 non-null  float64       \n",
            " 11  babies                          119390 non-null  int64         \n",
            " 12  meal                            119390 non-null  object        \n",
            " 13  country                         118902 non-null  object        \n",
            " 14  market_segment                  119390 non-null  object        \n",
            " 15  distribution_channel            119390 non-null  object        \n",
            " 16  is_repeated_guest               119390 non-null  int64         \n",
            " 17  previous_cancellations          119390 non-null  int64         \n",
            " 18  previous_bookings_not_canceled  119390 non-null  int64         \n",
            " 19  reserved_room_type              119390 non-null  object        \n",
            " 20  assigned_room_type              119390 non-null  object        \n",
            " 21  booking_changes                 119390 non-null  int64         \n",
            " 22  deposit_type                    119390 non-null  object        \n",
            " 23  agent                           103050 non-null  float64       \n",
            " 24  company                         6797 non-null    float64       \n",
            " 25  days_in_waiting_list            119390 non-null  int64         \n",
            " 26  customer_type                   119390 non-null  object        \n",
            " 27  adr                             119390 non-null  float64       \n",
            " 28  required_car_parking_spaces     119390 non-null  int64         \n",
            " 29  total_of_special_requests       119390 non-null  int64         \n",
            " 30  reservation_status              119390 non-null  object        \n",
            " 31  reservation_status_date         119390 non-null  datetime64[ns]\n",
            "dtypes: datetime64[ns](1), float64(4), int64(16), object(11)\n",
            "memory usage: 29.1+ MB\n"
          ]
        }
      ]
    },
    {
      "cell_type": "markdown",
      "source": [
        "## b) **Checking for missing values**"
      ],
      "metadata": {
        "id": "5_BLRdaWl9ge"
      }
    },
    {
      "cell_type": "code",
      "source": [
        "df.isnull().sum().sort_values(ascending=False)"
      ],
      "metadata": {
        "colab": {
          "base_uri": "https://localhost:8080/"
        },
        "id": "bxIoCJL-vRCO",
        "outputId": "54e7a121-a575-436c-84f5-1ac21fa4958f"
      },
      "execution_count": 10,
      "outputs": [
        {
          "output_type": "execute_result",
          "data": {
            "text/plain": [
              "company                           112593\n",
              "agent                              16340\n",
              "country                              488\n",
              "children                               4\n",
              "reserved_room_type                     0\n",
              "assigned_room_type                     0\n",
              "booking_changes                        0\n",
              "deposit_type                           0\n",
              "hotel                                  0\n",
              "previous_cancellations                 0\n",
              "days_in_waiting_list                   0\n",
              "customer_type                          0\n",
              "adr                                    0\n",
              "required_car_parking_spaces            0\n",
              "total_of_special_requests              0\n",
              "reservation_status                     0\n",
              "previous_bookings_not_canceled         0\n",
              "is_repeated_guest                      0\n",
              "is_canceled                            0\n",
              "distribution_channel                   0\n",
              "market_segment                         0\n",
              "meal                                   0\n",
              "babies                                 0\n",
              "adults                                 0\n",
              "stays_in_week_nights                   0\n",
              "stays_in_weekend_nights                0\n",
              "arrival_date_day_of_month              0\n",
              "arrival_date_week_number               0\n",
              "arrival_date_month                     0\n",
              "arrival_date_year                      0\n",
              "lead_time                              0\n",
              "reservation_status_date                0\n",
              "dtype: int64"
            ]
          },
          "metadata": {},
          "execution_count": 10
        }
      ]
    },
    {
      "cell_type": "markdown",
      "source": [
        "The following coulmns name company , agent , country  , children has null values in it."
      ],
      "metadata": {
        "id": "vXoxZg65nZRC"
      }
    },
    {
      "cell_type": "markdown",
      "source": [
        "## c) **Handling the null values**"
      ],
      "metadata": {
        "id": "Y_31QvYSn5r0"
      }
    },
    {
      "cell_type": "code",
      "source": [
        "df.drop(['company','agent'],axis=1, inplace= True) # drop AgentId and CompanyId Columns\n",
        "df['country'].fillna('Not defined',inplace = True) # we use Not defined here because country is a object data type\n",
        "df['children'].fillna(0 , inplace = True)\n",
        "\n",
        "df.shape"
      ],
      "metadata": {
        "colab": {
          "base_uri": "https://localhost:8080/"
        },
        "id": "dQp3jWJ8899b",
        "outputId": "d43204d0-ab15-461c-e4e3-644bf9e0c3c7"
      },
      "execution_count": 11,
      "outputs": [
        {
          "output_type": "execute_result",
          "data": {
            "text/plain": [
              "(119390, 30)"
            ]
          },
          "metadata": {},
          "execution_count": 11
        }
      ]
    },
    {
      "cell_type": "code",
      "source": [
        "df.isna().sum()      # checking again to see whether all null values are filled or not"
      ],
      "metadata": {
        "id": "HsK3t_Fbp6ME",
        "colab": {
          "base_uri": "https://localhost:8080/"
        },
        "outputId": "4e42b129-097d-4985-c739-76426232010e"
      },
      "execution_count": 12,
      "outputs": [
        {
          "output_type": "execute_result",
          "data": {
            "text/plain": [
              "hotel                             0\n",
              "is_canceled                       0\n",
              "lead_time                         0\n",
              "arrival_date_year                 0\n",
              "arrival_date_month                0\n",
              "arrival_date_week_number          0\n",
              "arrival_date_day_of_month         0\n",
              "stays_in_weekend_nights           0\n",
              "stays_in_week_nights              0\n",
              "adults                            0\n",
              "children                          0\n",
              "babies                            0\n",
              "meal                              0\n",
              "country                           0\n",
              "market_segment                    0\n",
              "distribution_channel              0\n",
              "is_repeated_guest                 0\n",
              "previous_cancellations            0\n",
              "previous_bookings_not_canceled    0\n",
              "reserved_room_type                0\n",
              "assigned_room_type                0\n",
              "booking_changes                   0\n",
              "deposit_type                      0\n",
              "days_in_waiting_list              0\n",
              "customer_type                     0\n",
              "adr                               0\n",
              "required_car_parking_spaces       0\n",
              "total_of_special_requests         0\n",
              "reservation_status                0\n",
              "reservation_status_date           0\n",
              "dtype: int64"
            ]
          },
          "metadata": {},
          "execution_count": 12
        }
      ]
    },
    {
      "cell_type": "markdown",
      "source": [
        "## d) **Check for duplicate value rows**"
      ],
      "metadata": {
        "id": "97BmU2hKtGcC"
      }
    },
    {
      "cell_type": "code",
      "source": [
        "df.duplicated().value_counts()"
      ],
      "metadata": {
        "colab": {
          "base_uri": "https://localhost:8080/"
        },
        "id": "NTxmjdr6tU52",
        "outputId": "ab4a0593-e631-4949-b3f4-7f960e069bae"
      },
      "execution_count": 13,
      "outputs": [
        {
          "output_type": "execute_result",
          "data": {
            "text/plain": [
              "False    87370\n",
              "True     32020\n",
              "dtype: int64"
            ]
          },
          "metadata": {},
          "execution_count": 13
        }
      ]
    },
    {
      "cell_type": "markdown",
      "source": [
        "We can see from above data that we have 31994 rows with duplicate values.We will remove duplicate values now"
      ],
      "metadata": {
        "id": "ughZPFMrtv0l"
      }
    },
    {
      "cell_type": "code",
      "source": [
        "df.drop_duplicates(inplace=True)    # syntax to remove duplicate values"
      ],
      "metadata": {
        "id": "9zixW1FTuDfO"
      },
      "execution_count": 14,
      "outputs": []
    },
    {
      "cell_type": "code",
      "source": [
        "df.duplicated().value_counts()      # Hence we have removed all the duplicate values from the row"
      ],
      "metadata": {
        "colab": {
          "base_uri": "https://localhost:8080/"
        },
        "id": "Q6np4IfXufSu",
        "outputId": "0da36a73-7d76-48b9-8aee-3f83965cbd0f"
      },
      "execution_count": 15,
      "outputs": [
        {
          "output_type": "execute_result",
          "data": {
            "text/plain": [
              "False    87370\n",
              "dtype: int64"
            ]
          },
          "metadata": {},
          "execution_count": 15
        }
      ]
    },
    {
      "cell_type": "code",
      "source": [
        "df.shape"
      ],
      "metadata": {
        "colab": {
          "base_uri": "https://localhost:8080/"
        },
        "id": "lilMujHy-Cyo",
        "outputId": "6baefae7-7904-4047-8e18-9da2e57c9190"
      },
      "execution_count": 16,
      "outputs": [
        {
          "output_type": "execute_result",
          "data": {
            "text/plain": [
              "(87370, 30)"
            ]
          },
          "metadata": {},
          "execution_count": 16
        }
      ]
    },
    {
      "cell_type": "markdown",
      "source": [
        "\n",
        "\n",
        "```\n",
        "# This is formatted as code\n",
        "```\n",
        "\n",
        "## **e) Check for Outliers**"
      ],
      "metadata": {
        "id": "bOdAGmD-2AO0"
      }
    },
    {
      "cell_type": "markdown",
      "source": [
        "## **1. Removing Outlier from adr data**"
      ],
      "metadata": {
        "id": "Iq70-ruoHjqy"
      }
    },
    {
      "cell_type": "code",
      "source": [
        "sns.jointplot(x='hotel', y='adr', data= df)"
      ],
      "metadata": {
        "colab": {
          "base_uri": "https://localhost:8080/",
          "height": 458
        },
        "id": "FbWAmJsC2KCC",
        "outputId": "ba3e168e-696f-466c-b7dc-b729affd266a"
      },
      "execution_count": 17,
      "outputs": [
        {
          "output_type": "execute_result",
          "data": {
            "text/plain": [
              "<seaborn.axisgrid.JointGrid at 0x7f68d9a7de10>"
            ]
          },
          "metadata": {},
          "execution_count": 17
        },
        {
          "output_type": "display_data",
          "data": {
            "text/plain": [
              "<Figure size 432x432 with 3 Axes>"
            ],
            "image/png": "[encoded data removed]"
          },
          "metadata": {
            "needs_background": "light"
          }
        }
      ]
    },
    {
      "cell_type": "markdown",
      "source": [
        "We have found an outlier in adr data,hence we will try to remove it inorder to do a better data analysis process."
      ],
      "metadata": {
        "id": "Oj0BQumh4cQy"
      }
    },
    {
      "cell_type": "code",
      "source": [
        "df.drop(df[df['adr'] > 5000].index, inplace = True)   #Removing outliers from the adr data"
      ],
      "metadata": {
        "id": "mUUWAUvV4y_C"
      },
      "execution_count": 18,
      "outputs": []
    },
    {
      "cell_type": "code",
      "source": [
        "sns.jointplot(x='hotel', y='adr', data= df)"
      ],
      "metadata": {
        "colab": {
          "base_uri": "https://localhost:8080/",
          "height": 458
        },
        "id": "b26izmr347xy",
        "outputId": "df47ccb3-6401-4474-ecb9-ad00b4c27032"
      },
      "execution_count": 19,
      "outputs": [
        {
          "output_type": "execute_result",
          "data": {
            "text/plain": [
              "<seaborn.axisgrid.JointGrid at 0x7f68da2fbf50>"
            ]
          },
          "metadata": {},
          "execution_count": 19
        },
        {
          "output_type": "display_data",
          "data": {
            "text/plain": [
              "<Figure size 432x432 with 3 Axes>"
            ],
            "image/png": "[encoded data removed]"
          },
          "metadata": {
            "needs_background": "light"
          }
        }
      ]
    },
    {
      "cell_type": "markdown",
      "source": [
        "#2. Removing Outlier from lead time data**"
      ],
      "metadata": {
        "id": "VWLkDGL5Hzi8"
      }
    },
    {
      "cell_type": "code",
      "source": [
        "sns.jointplot(x='hotel', y='lead_time', data= df)"
      ],
      "metadata": {
        "colab": {
          "base_uri": "https://localhost:8080/",
          "height": 458
        },
        "id": "SB3LdwL-5HDW",
        "outputId": "f6b7a555-845f-4ea2-82a7-4cfccf2c927c"
      },
      "execution_count": 20,
      "outputs": [
        {
          "output_type": "execute_result",
          "data": {
            "text/plain": [
              "<seaborn.axisgrid.JointGrid at 0x7f68d518de50>"
            ]
          },
          "metadata": {},
          "execution_count": 20
        },
        {
          "output_type": "display_data",
          "data": {
            "text/plain": [
              "<Figure size 432x432 with 3 Axes>"
            ],
            "image/png": "[encoded data removed]"
          },
          "metadata": {
            "needs_background": "light"
          }
        }
      ]
    },
    {
      "cell_type": "markdown",
      "source": [
        "We have found some outliers above 650 range in Resort Hotel ,we will drop them for better data analysis"
      ],
      "metadata": {
        "id": "MAPxdvjD5PHh"
      }
    },
    {
      "cell_type": "code",
      "source": [
        "df.drop(df[df['lead_time']> 650].index,inplace=True)                  #Removing outliers from the lead time data"
      ],
      "metadata": {
        "id": "-B9e7ZA-5kBp"
      },
      "execution_count": 21,
      "outputs": []
    },
    {
      "cell_type": "code",
      "source": [
        "sns.jointplot(x='hotel', y='lead_time', data= df)"
      ],
      "metadata": {
        "colab": {
          "base_uri": "https://localhost:8080/",
          "height": 458
        },
        "id": "QicJRo1R51rS",
        "outputId": "c6a54e26-795f-4e92-dedb-d00baf441c05"
      },
      "execution_count": 22,
      "outputs": [
        {
          "output_type": "execute_result",
          "data": {
            "text/plain": [
              "<seaborn.axisgrid.JointGrid at 0x7f68d4f89d90>"
            ]
          },
          "metadata": {},
          "execution_count": 22
        },
        {
          "output_type": "display_data",
          "data": {
            "text/plain": [
              "<Figure size 432x432 with 3 Axes>"
            ],
            "image/png": "[encoded data removed]"
          },
          "metadata": {
            "needs_background": "light"
          }
        }
      ]
    },
    {
      "cell_type": "markdown",
      "source": [
        "## **3.Removing Outlier from days in waiting list  data**"
      ],
      "metadata": {
        "id": "WLPFz-BTH99S"
      }
    },
    {
      "cell_type": "code",
      "source": [
        "sns.jointplot(x='hotel', y='days_in_waiting_list', data= df)"
      ],
      "metadata": {
        "colab": {
          "base_uri": "https://localhost:8080/",
          "height": 458
        },
        "id": "IJjBf_ok6Vx1",
        "outputId": "05f2e8e1-71eb-4868-d517-eb045f894a23"
      },
      "execution_count": 23,
      "outputs": [
        {
          "output_type": "execute_result",
          "data": {
            "text/plain": [
              "<seaborn.axisgrid.JointGrid at 0x7f68d4cab350>"
            ]
          },
          "metadata": {},
          "execution_count": 23
        },
        {
          "output_type": "display_data",
          "data": {
            "text/plain": [
              "<Figure size 432x432 with 3 Axes>"
            ],
            "image/png": "[encoded data removed]"
          },
          "metadata": {
            "needs_background": "light"
          }
        }
      ]
    },
    {
      "cell_type": "markdown",
      "source": [
        "We have found some outliers above 300 range in City Hotel ,we will drop them for better data analysis"
      ],
      "metadata": {
        "id": "aDlMZRgo8fs4"
      }
    },
    {
      "cell_type": "code",
      "source": [
        "df.drop(df[df['days_in_waiting_list']> 300].index,inplace=True)        #Removing outliers from the days_in_waiting_list column "
      ],
      "metadata": {
        "id": "2lyaGzZI6WgB"
      },
      "execution_count": 24,
      "outputs": []
    },
    {
      "cell_type": "code",
      "source": [
        "sns.jointplot(x='hotel', y='days_in_waiting_list', data= df)"
      ],
      "metadata": {
        "colab": {
          "base_uri": "https://localhost:8080/",
          "height": 458
        },
        "id": "67xfPIjk6oI5",
        "outputId": "6420c9fa-0df1-4f92-b5f3-19e296ff5ee2"
      },
      "execution_count": 25,
      "outputs": [
        {
          "output_type": "execute_result",
          "data": {
            "text/plain": [
              "<seaborn.axisgrid.JointGrid at 0x7f68d4c076d0>"
            ]
          },
          "metadata": {},
          "execution_count": 25
        },
        {
          "output_type": "display_data",
          "data": {
            "text/plain": [
              "<Figure size 432x432 with 3 Axes>"
            ],
            "image/png": "[encoded data removed]"
          },
          "metadata": {
            "needs_background": "light"
          }
        }
      ]
    },
    {
      "cell_type": "markdown",
      "source": [
        "## **4.Removing Outlier from Car parking space  data**"
      ],
      "metadata": {
        "id": "z6CL2-S5IGm-"
      }
    },
    {
      "cell_type": "code",
      "source": [
        "sns.jointplot(x='hotel', y='required_car_parking_spaces', data= df)"
      ],
      "metadata": {
        "colab": {
          "base_uri": "https://localhost:8080/",
          "height": 458
        },
        "id": "S5UUQJnRHCke",
        "outputId": "dbe399e0-acc1-4cff-8fbb-4e81255dfc6c"
      },
      "execution_count": 26,
      "outputs": [
        {
          "output_type": "execute_result",
          "data": {
            "text/plain": [
              "<seaborn.axisgrid.JointGrid at 0x7f68d4ab7610>"
            ]
          },
          "metadata": {},
          "execution_count": 26
        },
        {
          "output_type": "display_data",
          "data": {
            "text/plain": [
              "<Figure size 432x432 with 3 Axes>"
            ],
            "image/png": "[encoded data removed]"
          },
          "metadata": {
            "needs_background": "light"
          }
        }
      ]
    },
    {
      "cell_type": "code",
      "source": [
        "df.drop(df[df['required_car_parking_spaces']> 5].index,inplace=True)       #Removing outliers from the car parking space data"
      ],
      "metadata": {
        "id": "cvQc1d0aHNgc"
      },
      "execution_count": 28,
      "outputs": []
    },
    {
      "cell_type": "code",
      "source": [
        "sns.jointplot(x='hotel', y='required_car_parking_spaces', data= df)"
      ],
      "metadata": {
        "colab": {
          "base_uri": "https://localhost:8080/",
          "height": 458
        },
        "id": "R9eepcNtHeqk",
        "outputId": "e1ea17b6-cc53-4a6f-fb0c-a0a3d4581c56"
      },
      "execution_count": 27,
      "outputs": [
        {
          "output_type": "execute_result",
          "data": {
            "text/plain": [
              "<seaborn.axisgrid.JointGrid at 0x7f68d48f3a90>"
            ]
          },
          "metadata": {},
          "execution_count": 27
        },
        {
          "output_type": "display_data",
          "data": {
            "text/plain": [
              "<Figure size 432x432 with 3 Axes>"
            ],
            "image/png": "[encoded data removed]"
          },
          "metadata": {
            "needs_background": "light"
          }
        }
      ]
    },
    {
      "cell_type": "code",
      "source": [
        "df.shape"
      ],
      "metadata": {
        "colab": {
          "base_uri": "https://localhost:8080/"
        },
        "id": "tRLgYoTI8meT",
        "outputId": "28ceb028-e5a7-4f47-b9d2-2fd5da73f726"
      },
      "execution_count": 29,
      "outputs": [
        {
          "output_type": "execute_result",
          "data": {
            "text/plain": [
              "(87353, 30)"
            ]
          },
          "metadata": {},
          "execution_count": 29
        }
      ]
    },
    {
      "cell_type": "markdown",
      "source": [
        "## **Exploratory Data Analysis**"
      ],
      "metadata": {
        "id": "4BAyzX7IYU_b"
      }
    },
    {
      "cell_type": "markdown",
      "source": [
        "# **Question No-1**\n",
        "## **Factor affecting Cancellation rate** "
      ],
      "metadata": {
        "id": "TmEKc3bZgkyQ"
      }
    },
    {
      "cell_type": "markdown",
      "source": [
        "##  **Distribution Channel with highest cancellation**"
      ],
      "metadata": {
        "id": "I0ViIz3qtnBZ"
      }
    },
    {
      "cell_type": "code",
      "source": [
        "cond = df[df['is_canceled']==1]\n",
        "channel =  (cond['distribution_channel'].value_counts()/cond['distribution_channel'].size)*100\n",
        "plt.rcParams['figure.figsize'] = (12,6)\n",
        "channel.plot(kind = 'bar')\n",
        "plt.title('Distribution Channel with highest cancellation')\n",
        "plt.ylabel('No. of Cancellation')\n",
        "plt.xlabel('Distribution Channel')\n",
        "plt.show()"
      ],
      "metadata": {
        "colab": {
          "base_uri": "https://localhost:8080/",
          "height": 446
        },
        "id": "YkeJqvQ6tvw0",
        "outputId": "41978961-1bcb-4321-d1dd-612c5b226ead"
      },
      "execution_count": 30,
      "outputs": [
        {
          "output_type": "display_data",
          "data": {
            "text/plain": [
              "<Figure size 864x432 with 1 Axes>"
            ],
            "image/png": "[encoded data removed]"
          },
          "metadata": {
            "needs_background": "light"
          }
        }
      ]
    },
    {
      "cell_type": "markdown",
      "source": [
        "## **a) Waiting time(days)**"
      ],
      "metadata": {
        "id": "TUYXAG1BsthV"
      }
    },
    {
      "cell_type": "code",
      "source": [
        "waiting_list= df[df['days_in_waiting_list'] !=0]  # Selecting bookings with non zero waiting time\n",
        "\n",
        "\n"
      ],
      "metadata": {
        "id": "O6cebYEomoel"
      },
      "execution_count": 31,
      "outputs": []
    },
    {
      "cell_type": "code",
      "source": [
        "waiting_list.shape"
      ],
      "metadata": {
        "colab": {
          "base_uri": "https://localhost:8080/"
        },
        "id": "EFE0uHRGnmMU",
        "outputId": "61968447-5fb4-43b2-b423-03982fb324bf"
      },
      "execution_count": 32,
      "outputs": [
        {
          "output_type": "execute_result",
          "data": {
            "text/plain": [
              "(847, 30)"
            ]
          },
          "metadata": {},
          "execution_count": 32
        }
      ]
    },
    {
      "cell_type": "code",
      "source": [
        "cancellation = (waiting_list.groupby('is_canceled')['days_in_waiting_list'].count()/ waiting_list['days_in_waiting_list'].size)*100\n",
        "cancellation\n"
      ],
      "metadata": {
        "colab": {
          "base_uri": "https://localhost:8080/"
        },
        "id": "4flhFr17g_Np",
        "outputId": "a9eadd0c-73b6-46af-fa66-1ef02617d668"
      },
      "execution_count": 33,
      "outputs": [
        {
          "output_type": "execute_result",
          "data": {
            "text/plain": [
              "is_canceled\n",
              "0    66.115702\n",
              "1    33.884298\n",
              "Name: days_in_waiting_list, dtype: float64"
            ]
          },
          "metadata": {},
          "execution_count": 33
        }
      ]
    },
    {
      "cell_type": "code",
      "source": [
        "plt.rcParams['figure.figsize'] = (12,6)\n",
        "cancellation.plot(kind = 'bar')\n",
        "plt.title('Cancel percentage due to waiting list')\n",
        "plt.ylabel('Percentage')\n",
        "plt.xlabel('is_canceled')\n",
        "plt.show()"
      ],
      "metadata": {
        "colab": {
          "base_uri": "https://localhost:8080/",
          "height": 401
        },
        "id": "XDxn8XNtic_C",
        "outputId": "5f78c76d-8fbc-472a-95d1-a70fa5cf7f86"
      },
      "execution_count": 34,
      "outputs": [
        {
          "output_type": "display_data",
          "data": {
            "text/plain": [
              "<Figure size 864x432 with 1 Axes>"
            ],
            "image/png": "[encoded data removed]"
          },
          "metadata": {
            "needs_background": "light"
          }
        }
      ]
    },
    {
      "cell_type": "markdown",
      "source": [
        "### **Result**\n",
        "The above bar plot tells you that the percentage of bookings canceled due to longer waiting time is compartively low. Even if there is waiting time for booking , around 65% of booking not canceled,therefore we can conclude that waiting period has no effect on cancellation of bookings"
      ],
      "metadata": {
        "id": "qurAjRC5adau"
      }
    },
    {
      "cell_type": "markdown",
      "source": [
        "## **b) Lead Time**"
      ],
      "metadata": {
        "id": "fagSc4tms0yZ"
      }
    },
    {
      "cell_type": "code",
      "source": [
        "cancellation1 = (df.groupby('is_canceled')['lead_time'].count()/df['lead_time'].size)*100\n",
        "cancellation1"
      ],
      "metadata": {
        "colab": {
          "base_uri": "https://localhost:8080/"
        },
        "id": "L3wDCWAer1vZ",
        "outputId": "3f12caa0-b751-42b9-a99f-87b290822a56"
      },
      "execution_count": 35,
      "outputs": [
        {
          "output_type": "execute_result",
          "data": {
            "text/plain": [
              "is_canceled\n",
              "0    72.510389\n",
              "1    27.489611\n",
              "Name: lead_time, dtype: float64"
            ]
          },
          "metadata": {},
          "execution_count": 35
        }
      ]
    },
    {
      "cell_type": "code",
      "source": [
        "plt.rcParams['figure.figsize'] = (12,6)\n",
        "cancellation1.plot(kind = 'bar')\n",
        "plt.title('Cancel Percentage due to Lead Time')\n",
        "plt.ylabel('Percentage')\n",
        "plt.xlabel('is_canceled')\n",
        "plt.show()"
      ],
      "metadata": {
        "colab": {
          "base_uri": "https://localhost:8080/",
          "height": 401
        },
        "id": "0BStg54sr6Uw",
        "outputId": "6d8baa6f-edf7-4b32-97c0-db43933d07bc"
      },
      "execution_count": 36,
      "outputs": [
        {
          "output_type": "display_data",
          "data": {
            "text/plain": [
              "<Figure size 864x432 with 1 Axes>"
            ],
            "image/png": "[encoded data removed]"
          },
          "metadata": {
            "needs_background": "light"
          }
        }
      ]
    },
    {
      "cell_type": "markdown",
      "source": [
        "### **Result**\n",
        "The above bar plot tells you that the percentage of bookings canceled due to lead time is compartively very low. Nearly 72% of booking not canceled,therefore we can conclude that Lead Time has no effect on cancellation of bookings"
      ],
      "metadata": {
        "id": "LFN3YZ0MbgNG"
      }
    },
    {
      "cell_type": "markdown",
      "source": [
        "## c)**Whether not getting allotted the same room type as demanded is the cause of cancellation fo bookings**"
      ],
      "metadata": {
        "id": "ql1GkD_rsGUC"
      }
    },
    {
      "cell_type": "code",
      "source": [
        "def room(x):\n",
        "  if x['assigned_room_type'] != x['reserved_room_type']:\n",
        "    return 1\n",
        "  else:\n",
        "    return 0\n"
      ],
      "metadata": {
        "id": "WBuP8PQlsQJm"
      },
      "execution_count": 37,
      "outputs": []
    },
    {
      "cell_type": "code",
      "source": [
        "df['allotted_same_room'] = df.apply(lambda x : room(x) ,axis=1)"
      ],
      "metadata": {
        "id": "HCHsgEmassKP"
      },
      "execution_count": 38,
      "outputs": []
    },
    {
      "cell_type": "code",
      "source": [
        "room = (df.groupby('is_canceled')['allotted_same_room'].sum()/df['is_canceled'].size)*100\n",
        "room\n"
      ],
      "metadata": {
        "colab": {
          "base_uri": "https://localhost:8080/"
        },
        "id": "5ccElAf6ttMl",
        "outputId": "fe540239-8be1-4a69-8adf-ebd600e7a154"
      },
      "execution_count": 39,
      "outputs": [
        {
          "output_type": "execute_result",
          "data": {
            "text/plain": [
              "is_canceled\n",
              "0    14.291438\n",
              "1     0.705185\n",
              "Name: allotted_same_room, dtype: float64"
            ]
          },
          "metadata": {},
          "execution_count": 39
        }
      ]
    },
    {
      "cell_type": "code",
      "source": [
        "plt.rcParams['figure.figsize'] = (12,6)\n",
        "room.plot(kind = 'bar')\n",
        "plt.title('Cancel percentage for not assigning the same room')\n",
        "plt.ylabel('allotted_same_room Percentage')\n",
        "plt.xlabel('is_canceled')\n",
        "plt.show()"
      ],
      "metadata": {
        "colab": {
          "base_uri": "https://localhost:8080/",
          "height": 401
        },
        "id": "XX035vkp2sSG",
        "outputId": "85a8c1cb-258b-4963-da82-1cf65b43e63d"
      },
      "execution_count": 40,
      "outputs": [
        {
          "output_type": "display_data",
          "data": {
            "text/plain": [
              "<Figure size 864x432 with 1 Axes>"
            ],
            "image/png": "[encoded data removed]"
          },
          "metadata": {
            "needs_background": "light"
          }
        }
      ]
    },
    {
      "cell_type": "markdown",
      "source": [
        "# **Result**\n",
        "The above bar plot tells you that the percentage of bookings canceled due to not assigning same room is compartively very low. There were no significant number of booking  canceled due to not allocating the same room . Therefore we can conclude that not assigning the same room has no effect on cancellation of bookings"
      ],
      "metadata": {
        "id": "RDK0JeGriOmq"
      }
    },
    {
      "cell_type": "markdown",
      "source": [
        "## **d) Car parking space**"
      ],
      "metadata": {
        "id": "_YtFBMF9ye_v"
      }
    },
    {
      "cell_type": "code",
      "source": [
        "new_df1 = df[df['is_canceled'] == 1]            #segregation of actual canceled data from is_canceled column\n",
        "new_df1['is_canceled'].value_counts()"
      ],
      "metadata": {
        "colab": {
          "base_uri": "https://localhost:8080/"
        },
        "id": "KhU377aDvZUM",
        "outputId": "9553449c-db75-46f8-fe80-76c04ba6b161"
      },
      "execution_count": 41,
      "outputs": [
        {
          "output_type": "execute_result",
          "data": {
            "text/plain": [
              "1    24013\n",
              "Name: is_canceled, dtype: int64"
            ]
          },
          "metadata": {},
          "execution_count": 41
        }
      ]
    },
    {
      "cell_type": "code",
      "source": [
        "sns.countplot(x='required_car_parking_spaces',data = new_df1)\n",
        "plt.title('The number of bookings vs car parking space available')"
      ],
      "metadata": {
        "id": "Sn-qd68gyI3q",
        "colab": {
          "base_uri": "https://localhost:8080/",
          "height": 422
        },
        "outputId": "b6e10dc4-583f-4366-9d19-09d7ea992b4c"
      },
      "execution_count": 42,
      "outputs": [
        {
          "output_type": "execute_result",
          "data": {
            "text/plain": [
              "Text(0.5, 1.0, 'The number of bookings vs car parking space available')"
            ]
          },
          "metadata": {},
          "execution_count": 42
        },
        {
          "output_type": "display_data",
          "data": {
            "text/plain": [
              "<Figure size 864x432 with 1 Axes>"
            ],
            "image/png": "[encoded data removed]"
          },
          "metadata": {
            "needs_background": "light"
          }
        }
      ]
    },
    {
      "cell_type": "markdown",
      "source": [
        "### **Result** \n",
        "When we have gone through analysis of actual canceled data analysis(new_df1),we find that the required_car_space column name has only value 0 in its entire rows.All the canceled booking has assigned zero parking space,not a single car parking space alloted in the booking. Hence we can conclude from this analysis that one prime reason behind cancellation will be due to no car parking space."
      ],
      "metadata": {
        "id": "FsIrzYkq1yys"
      }
    },
    {
      "cell_type": "code",
      "source": [
        ""
      ],
      "metadata": {
        "id": "9xdqOTd8aFAd"
      },
      "execution_count": null,
      "outputs": []
    },
    {
      "cell_type": "markdown",
      "source": [
        "# **Question No-2**\n",
        "## **Factors Governing Booking** "
      ],
      "metadata": {
        "id": "zmZbGFHOaL_M"
      }
    },
    {
      "cell_type": "markdown",
      "source": [
        "### **a) Deposit type**"
      ],
      "metadata": {
        "id": "539_iQ7sajnS"
      }
    },
    {
      "cell_type": "code",
      "source": [
        "new_df = df[df['is_canceled'] == 0]                      # segregation of actual guest who doesn't canceled their bookings from is_canceled column\n",
        "new_df.shape"
      ],
      "metadata": {
        "colab": {
          "base_uri": "https://localhost:8080/"
        },
        "id": "Za28G-PZaewl",
        "outputId": "e2c3a635-984a-4e19-87fa-6e36a5c87cb1"
      },
      "execution_count": 43,
      "outputs": [
        {
          "output_type": "execute_result",
          "data": {
            "text/plain": [
              "(63340, 31)"
            ]
          },
          "metadata": {},
          "execution_count": 43
        }
      ]
    },
    {
      "cell_type": "code",
      "source": [
        "factor1 = (new_df['deposit_type'].value_counts() /new_df['deposit_type'].size)*100"
      ],
      "metadata": {
        "id": "IL2L6LIDarHb"
      },
      "execution_count": 45,
      "outputs": []
    },
    {
      "cell_type": "code",
      "source": [
        "plt.rcParams['figure.figsize'] = (12,6)          # We have used matplotlib.pyplot library inorder to depict the data using bar plot\n",
        "factor1.plot(kind = 'bar')\n",
        "plt.title('No. of booking vs Deposit type')\n",
        "plt.ylabel('Percentage %')\n",
        "plt.xlabel('Deposit Type')\n",
        "plt.show()"
      ],
      "metadata": {
        "colab": {
          "base_uri": "https://localhost:8080/",
          "height": 452
        },
        "id": "cx0tr-C1auVC",
        "outputId": "7b9e20e3-0408-4bff-e204-3a7604411195"
      },
      "execution_count": 60,
      "outputs": [
        {
          "output_type": "display_data",
          "data": {
            "text/plain": [
              "<Figure size 864x432 with 1 Axes>"
            ],
            "image/png": "[encoded data removed]"
          },
          "metadata": {
            "needs_background": "light"
          }
        }
      ]
    },
    {
      "cell_type": "markdown",
      "source": [
        "### **Result**\n",
        "The most number of guests while booking the room prefer the deposit type with No Deposit option(Above 90%). Hence we can conclude from the the above barplot that inorder to increase the number of booking ,the hotel should plan to provide No \n",
        "Deposit type option to their customers."
      ],
      "metadata": {
        "id": "sdlC7xbga0zG"
      }
    },
    {
      "cell_type": "markdown",
      "source": [
        "## **b) Room Type Assigned**"
      ],
      "metadata": {
        "id": "xHqBoWlnbAbE"
      }
    },
    {
      "cell_type": "code",
      "source": [
        "factor2 = new_df.groupby(['assigned_room_type'])['adr'].mean()"
      ],
      "metadata": {
        "id": "YijGbtQXa2Hd"
      },
      "execution_count": 48,
      "outputs": []
    },
    {
      "cell_type": "code",
      "source": [
        "plt.rcParams['figure.figsize'] = (12,6)         # We have used matplotlib.pyplot library inorder to depict the data using bar plot\n",
        "factor2.plot(kind = 'bar')\n",
        "plt.title('adr vs Room type')\n",
        "plt.ylabel('avg daily rate')\n",
        "plt.xlabel('room type')\n",
        "plt.show()"
      ],
      "metadata": {
        "colab": {
          "base_uri": "https://localhost:8080/",
          "height": 402
        },
        "id": "C_9QsjzjbE6L",
        "outputId": "f4b614b4-2dee-4f02-f2c8-6b6c6450323c"
      },
      "execution_count": 61,
      "outputs": [
        {
          "output_type": "display_data",
          "data": {
            "text/plain": [
              "<Figure size 864x432 with 1 Axes>"
            ],
            "image/png": "[encoded data removed]"
          },
          "metadata": {
            "needs_background": "light"
          }
        }
      ]
    },
    {
      "cell_type": "markdown",
      "source": [
        "### **Result**\n",
        "The hotel can gain most of its revenue from Room type-G & H,since these two room type have the highest average daily rate. Inorder to increase the sale in these two room type ,the hotel should provide the guest with good deals."
      ],
      "metadata": {
        "id": "ekr377_UbLDn"
      }
    },
    {
      "cell_type": "code",
      "source": [
        "x = (new_df['assigned_room_type'].value_counts()/new_df['assigned_room_type'].size)*100\n",
        "plt.rcParams['figure.figsize'] = (12,6)\n",
        "x.plot(kind = 'bar')\n",
        "plt.title('No. of booking vs Room type')\n",
        "plt.ylabel('Percentage %')\n",
        "plt.xlabel('room type')\n",
        "plt.show()"
      ],
      "metadata": {
        "colab": {
          "base_uri": "https://localhost:8080/",
          "height": 402
        },
        "id": "mnseZtLObTfU",
        "outputId": "26bd204e-1e6a-460b-d372-70f913b11ac7"
      },
      "execution_count": 50,
      "outputs": [
        {
          "output_type": "display_data",
          "data": {
            "text/plain": [
              "<Figure size 864x432 with 1 Axes>"
            ],
            "image/png": "[encoded data removed]"
          },
          "metadata": {
            "needs_background": "light"
          }
        }
      ]
    },
    {
      "cell_type": "markdown",
      "source": [
        "### **Result**\n",
        "The above bar plot conveys that Room type A has the highest number of bookings compared to the other room type,secondly in demand is room type D.Hence inorder to increase their sales the hotels should provide the guest with these room type A and D always vacant and available."
      ],
      "metadata": {
        "id": "Vk5nC6jTbZJY"
      }
    },
    {
      "cell_type": "markdown",
      "source": [
        "## **c) Customer Type**"
      ],
      "metadata": {
        "id": "VM3AR1xUbeWj"
      }
    },
    {
      "cell_type": "code",
      "source": [
        "factor3 = (new_df['customer_type'].value_counts()/new_df['customer_type'].size)*100\n",
        "plt.rcParams['figure.figsize'] = (12,6)               # We have used matplotlib.pyplot library inorder to depict the data using bar plot\n",
        "factor3.plot(kind = 'bar')\n",
        "plt.title('No. of booking vs Customer type')\n",
        "plt.ylabel('Percentage %')\n",
        "plt.xlabel('Customer type')\n",
        "plt.show()"
      ],
      "metadata": {
        "colab": {
          "base_uri": "https://localhost:8080/",
          "height": 469
        },
        "id": "VWGwooxGbdkL",
        "outputId": "e669e43a-5939-47f2-9789-5fbec66abc99"
      },
      "execution_count": 62,
      "outputs": [
        {
          "output_type": "display_data",
          "data": {
            "text/plain": [
              "<Figure size 864x432 with 1 Axes>"
            ],
            "image/png": "[encoded data removed]"
          },
          "metadata": {
            "needs_background": "light"
          }
        }
      ]
    },
    {
      "cell_type": "markdown",
      "source": [
        "### **Result**\n",
        "Another important factor which governs the booking is the Customer Type.The above plot clearly depicts more than 75% of booking has been carried out by Transient Customer Type and  less than 5% of booking has been done by group customer type."
      ],
      "metadata": {
        "id": "cJsqqa9cbn6c"
      }
    },
    {
      "cell_type": "markdown",
      "source": [
        "## **d) Hotel Type**"
      ],
      "metadata": {
        "id": "zyrIGD98bzHW"
      }
    },
    {
      "cell_type": "code",
      "source": [
        "factor4 = (new_df['hotel'].value_counts()/new_df['hotel'].size)*100"
      ],
      "metadata": {
        "id": "t9gIP1fTbohg"
      },
      "execution_count": 52,
      "outputs": []
    },
    {
      "cell_type": "code",
      "source": [
        "plt.rcParams['figure.figsize'] = (12,6)\n",
        "factor4.plot(kind = 'bar')\n",
        "plt.title('No. of booking vs Hotel Type')\n",
        "plt.ylabel('Percentage of Bookings')\n",
        "plt.xlabel('Hotel Type')\n",
        "plt.show()"
      ],
      "metadata": {
        "colab": {
          "base_uri": "https://localhost:8080/",
          "height": 455
        },
        "id": "66KAYzXxbuE0",
        "outputId": "e58301fa-857d-4cc1-f469-93c7f449108c"
      },
      "execution_count": 53,
      "outputs": [
        {
          "output_type": "display_data",
          "data": {
            "text/plain": [
              "<Figure size 864x432 with 1 Axes>"
            ],
            "image/png": "[encoded data removed]"
          },
          "metadata": {
            "needs_background": "light"
          }
        }
      ]
    },
    {
      "cell_type": "markdown",
      "source": [
        "### **Result**\n",
        "Another primary factor which governing the booking is the hotel preference by the customer. The above barplot depicts nearly 60% of guests prefer City Hotel and only 40% of guest prefer Resort Hotel"
      ],
      "metadata": {
        "id": "_7Gcl-ygbxc_"
      }
    },
    {
      "cell_type": "markdown",
      "source": [
        "## **e) Total number of days stays**"
      ],
      "metadata": {
        "id": "Ex8_bbJQb8I4"
      }
    },
    {
      "cell_type": "code",
      "source": [
        "new_df['total_stay'] = new_df['stays_in_weekend_nights'] + new_df['stays_in_week_nights']"
      ],
      "metadata": {
        "colab": {
          "base_uri": "https://localhost:8080/"
        },
        "id": "mAvzWzGMb9OT",
        "outputId": "fa544141-be42-4f07-b084-3abda3ba446d"
      },
      "execution_count": 54,
      "outputs": [
        {
          "output_type": "stream",
          "name": "stderr",
          "text": [
            "/usr/local/lib/python3.7/dist-packages/ipykernel_launcher.py:1: SettingWithCopyWarning: \n",
            "A value is trying to be set on a copy of a slice from a DataFrame.\n",
            "Try using .loc[row_indexer,col_indexer] = value instead\n",
            "\n",
            "See the caveats in the documentation: https://pandas.pydata.org/pandas-docs/stable/user_guide/indexing.html#returning-a-view-versus-a-copy\n",
            "  \"\"\"Entry point for launching an IPython kernel.\n"
          ]
        }
      ]
    },
    {
      "cell_type": "code",
      "source": [
        "factor5 = (new_df['total_stay'].value_counts()[:15]/new_df['total_stay'].size)*100\n"
      ],
      "metadata": {
        "id": "4G03dXG3cBx4"
      },
      "execution_count": 55,
      "outputs": []
    },
    {
      "cell_type": "code",
      "source": [
        "plt.rcParams['figure.figsize'] = (12,6)\n",
        "factor5.plot(kind = 'bar')\n",
        "plt.title('No. of booking vs total no. of days stay')\n",
        "plt.ylabel('Percentage of Bookings')\n",
        "plt.xlabel('No. of Days Stay')\n",
        "plt.show()"
      ],
      "metadata": {
        "colab": {
          "base_uri": "https://localhost:8080/",
          "height": 407
        },
        "id": "DeVCiotycEZv",
        "outputId": "ab175df3-7af3-43aa-ca1d-0d087a86f817"
      },
      "execution_count": 56,
      "outputs": [
        {
          "output_type": "display_data",
          "data": {
            "text/plain": [
              "<Figure size 864x432 with 1 Axes>"
            ],
            "image/png": "[encoded data removed]"
          },
          "metadata": {
            "needs_background": "light"
          }
        }
      ]
    },
    {
      "cell_type": "markdown",
      "source": [
        "### **Result**\n",
        "The number of days stay prefered by most number of customers is 1 day with nearly 25% ,secondly the prefered no. of days stay is 3 days."
      ],
      "metadata": {
        "id": "69iejRZMcKFT"
      }
    },
    {
      "cell_type": "markdown",
      "source": [
        "## **f)Total Number of Guest** "
      ],
      "metadata": {
        "id": "cT85AyJQcNzj"
      }
    },
    {
      "cell_type": "code",
      "source": [
        "new_df['total_no_guest'] = new_df['adults']+new_df['children']+new_df['babies']"
      ],
      "metadata": {
        "colab": {
          "base_uri": "https://localhost:8080/"
        },
        "id": "q5Ku7xkkcJts",
        "outputId": "c13b77ba-529f-4e0a-ca8f-e230d703c455"
      },
      "execution_count": 57,
      "outputs": [
        {
          "output_type": "stream",
          "name": "stderr",
          "text": [
            "/usr/local/lib/python3.7/dist-packages/ipykernel_launcher.py:1: SettingWithCopyWarning: \n",
            "A value is trying to be set on a copy of a slice from a DataFrame.\n",
            "Try using .loc[row_indexer,col_indexer] = value instead\n",
            "\n",
            "See the caveats in the documentation: https://pandas.pydata.org/pandas-docs/stable/user_guide/indexing.html#returning-a-view-versus-a-copy\n",
            "  \"\"\"Entry point for launching an IPython kernel.\n"
          ]
        }
      ]
    },
    {
      "cell_type": "code",
      "source": [
        "factor6 = (new_df['total_no_guest'].value_counts()/new_df['total_no_guest'].size)*100\n"
      ],
      "metadata": {
        "id": "ANSPZqVicTP0"
      },
      "execution_count": 58,
      "outputs": []
    },
    {
      "cell_type": "code",
      "source": [
        "plt.rcParams['figure.figsize'] = (12,6)          # We have used matplotlib.pyplot library inorder to depict the data using bar plot\n",
        "factor6.plot(kind = 'bar')\n",
        "plt.title('No. of booking vs total no. of guests')\n",
        "plt.ylabel('Percentage of Bookings')\n",
        "plt.xlabel('Total No. of Guest')\n",
        "plt.show()"
      ],
      "metadata": {
        "colab": {
          "base_uri": "https://localhost:8080/",
          "height": 416
        },
        "id": "ESHTePxccWsu",
        "outputId": "46d4ba2b-d433-4e9e-ad31-b65810351696"
      },
      "execution_count": 59,
      "outputs": [
        {
          "output_type": "display_data",
          "data": {
            "text/plain": [
              "<Figure size 864x432 with 1 Axes>"
            ],
            "image/png": "[encoded data removed]"
          },
          "metadata": {
            "needs_background": "light"
          }
        }
      ]
    },
    {
      "cell_type": "markdown",
      "source": [
        "### **Result**\n",
        "The total number of guest is another prime factor governing the bookings. We can conclude from the above barplot that most number of bookings are done by couples.Hence providing good deals for couples can increase the number of bookings"
      ],
      "metadata": {
        "id": "wKkCXwricbeA"
      }
    },
    {
      "cell_type": "markdown",
      "source": [
        "## **Question No-3** \n",
        "## **What if you wanted to predict whether or not a hotel was likely to receive a disproportionately high number of special requests**"
      ],
      "metadata": {
        "id": "kj89JZISdKMq"
      }
    },
    {
      "cell_type": "markdown",
      "source": [
        "## **a)Special Request According to Adults**"
      ],
      "metadata": {
        "id": "djIGUSCgdPfo"
      }
    },
    {
      "cell_type": "code",
      "source": [
        "sns.boxplot(x = 'adults' , y= 'total_of_special_requests' ,hue = 'adults', data = new_df) # we have used seaborn box plot data visualization graph to depict the data\n",
        "fig = plt.gcf()\n",
        "fig.set_size_inches(18,9)\n",
        "plt.title('Total special request vs adults')"
      ],
      "metadata": {
        "colab": {
          "base_uri": "https://localhost:8080/",
          "height": 584
        },
        "id": "JCUCs-kxdKw2",
        "outputId": "030745d9-3e44-4cb3-eab7-ab5ee14eefb0"
      },
      "execution_count": 63,
      "outputs": [
        {
          "output_type": "execute_result",
          "data": {
            "text/plain": [
              "Text(0.5, 1.0, 'Total special request vs adults')"
            ]
          },
          "metadata": {},
          "execution_count": 63
        },
        {
          "output_type": "display_data",
          "data": {
            "text/plain": [
              "<Figure size 1296x648 with 1 Axes>"
            ],
            "image/png": "[encoded data removed]"
          },
          "metadata": {
            "needs_background": "light"
          }
        }
      ]
    },
    {
      "cell_type": "markdown",
      "source": [
        "### **Result**\n",
        "The above boxplot depicts that the most number of special request is made when the number of adults are 3. Hence the hotel can predict the special request based on the above plot easily and can take necessary  steps to curb the number of special request"
      ],
      "metadata": {
        "id": "UO6bXAzNdViZ"
      }
    },
    {
      "cell_type": "markdown",
      "source": [
        "## **b)Special Request According to Market Segmentation**"
      ],
      "metadata": {
        "id": "UQkUKJPqdZNs"
      }
    },
    {
      "cell_type": "code",
      "source": [
        "sns.boxplot(x ='market_segment' , y='total_of_special_requests', hue='market_segment',data =df)\n",
        "fig = plt.gcf()\n",
        "fig.set_size_inches(18,9)\n",
        "plt.title('Total special request vs Market Segmentation')"
      ],
      "metadata": {
        "colab": {
          "base_uri": "https://localhost:8080/",
          "height": 585
        },
        "id": "RjnrdSoidSh7",
        "outputId": "b187b210-9afe-4afc-b6b2-146c1f5a1d53"
      },
      "execution_count": 64,
      "outputs": [
        {
          "output_type": "execute_result",
          "data": {
            "text/plain": [
              "Text(0.5, 1.0, 'Total special request vs Market Segmentation')"
            ]
          },
          "metadata": {},
          "execution_count": 64
        },
        {
          "output_type": "display_data",
          "data": {
            "text/plain": [
              "<Figure size 1296x648 with 1 Axes>"
            ],
            "image/png": "[encoded data removed]"
          },
          "metadata": {
            "needs_background": "light"
          }
        }
      ]
    },
    {
      "cell_type": "markdown",
      "source": [
        "### **Result**\n",
        "The above boxplot depicts that the most number of special request  made by various market segment. The most number of special request will be asked from Complementary market segment. Hence the hotel can predict the special request based on the above plot easily and can take adequate steps to reduce the number of special request"
      ],
      "metadata": {
        "id": "6WEEOu8CdfpY"
      }
    },
    {
      "cell_type": "markdown",
      "source": [
        "## **c)Special Request According to Kids**"
      ],
      "metadata": {
        "id": "McbPaLa0djJ6"
      }
    },
    {
      "cell_type": "code",
      "source": [
        "new_df['kids'] = new_df['children'] + new_df['babies']"
      ],
      "metadata": {
        "colab": {
          "base_uri": "https://localhost:8080/"
        },
        "id": "iGOP7q9iddUx",
        "outputId": "c40507c8-eb4e-46eb-c0bd-876ef1c0f0dd"
      },
      "execution_count": 65,
      "outputs": [
        {
          "output_type": "stream",
          "name": "stderr",
          "text": [
            "/usr/local/lib/python3.7/dist-packages/ipykernel_launcher.py:1: SettingWithCopyWarning: \n",
            "A value is trying to be set on a copy of a slice from a DataFrame.\n",
            "Try using .loc[row_indexer,col_indexer] = value instead\n",
            "\n",
            "See the caveats in the documentation: https://pandas.pydata.org/pandas-docs/stable/user_guide/indexing.html#returning-a-view-versus-a-copy\n",
            "  \"\"\"Entry point for launching an IPython kernel.\n"
          ]
        }
      ]
    },
    {
      "cell_type": "code",
      "source": [
        "sns.boxplot(x ='kids' , y='total_of_special_requests',hue = 'kids' , data = new_df)\n",
        "fig = plt.gcf()\n",
        "fig.set_size_inches(15,10)\n",
        "plt.title('Total special request vs kids')"
      ],
      "metadata": {
        "colab": {
          "base_uri": "https://localhost:8080/",
          "height": 638
        },
        "id": "D9qSeIC7dnfB",
        "outputId": "6962ef2a-3e31-4c52-ce84-0965f02397a6"
      },
      "execution_count": 66,
      "outputs": [
        {
          "output_type": "execute_result",
          "data": {
            "text/plain": [
              "Text(0.5, 1.0, 'Total special request vs kids')"
            ]
          },
          "metadata": {},
          "execution_count": 66
        },
        {
          "output_type": "display_data",
          "data": {
            "text/plain": [
              "<Figure size 1080x720 with 1 Axes>"
            ],
            "image/png": "[encoded data removed]"
          },
          "metadata": {
            "needs_background": "light"
          }
        }
      ]
    },
    {
      "cell_type": "markdown",
      "source": [
        "### **Result**\n",
        "The above boxplot depicts that the most number of special request is made when the number of kids are 1 or 3. Hence the hotel can predict the special request based on the above plot easily and can take proper steps to reduce the number of special request"
      ],
      "metadata": {
        "id": "uKZdIEcudvqZ"
      }
    },
    {
      "cell_type": "markdown",
      "source": [
        "## **Question No-4**\n",
        "## **Finding the  best customer type with maximum Average Daily Rate in Different Year** "
      ],
      "metadata": {
        "id": "Lz8olCGQeXLs"
      }
    },
    {
      "cell_type": "code",
      "source": [
        "plt.figure(figsize = (15,10))                   # used here seaborn barplot to do the multivariate analysis\n",
        "sns.barplot(x= 'customer_type' ,y ='adr',hue ='arrival_date_year' ,data= df)\n",
        "plt.title('Customer Type vs Average daily rate in different years')"
      ],
      "metadata": {
        "colab": {
          "base_uri": "https://localhost:8080/",
          "height": 639
        },
        "id": "gY35WahGdwVN",
        "outputId": "86f8e7cc-1989-48e8-9dff-c1e1a9a4edd9"
      },
      "execution_count": 67,
      "outputs": [
        {
          "output_type": "execute_result",
          "data": {
            "text/plain": [
              "Text(0.5, 1.0, 'Customer Type vs Average daily rate in different years')"
            ]
          },
          "metadata": {},
          "execution_count": 67
        },
        {
          "output_type": "display_data",
          "data": {
            "text/plain": [
              "<Figure size 1080x720 with 1 Axes>"
            ],
            "image/png": "[encoded data removed]"
          },
          "metadata": {
            "needs_background": "light"
          }
        }
      ]
    },
    {
      "cell_type": "markdown",
      "source": [
        "## **Conclusion**\n",
        "1. The Transient customer type has the maximum adr in the year 2017.The adr of Transient customer type  increasing linearly in a progressive manner.Therefore  we can predict from this data that the adr in 2018 for Transient customer type will be more compared to 2017. \n",
        "\n",
        "2. The transient customer type is the customer type which generates the maximum adr compare to other customer type. Hence providing Transient customer type with good deals will be helpful for hotels to generate good revenue.\n",
        "\n",
        "\n",
        "3. Similar to Transient customer type, the Transient-party customer type as well shows the same trend for upcoming years (adr increasing progressively).\n",
        "\n",
        "4. The Group customer type has not shown any progressively trend in year 2016 than of year 2015 and the adr for 2016 remain nearly below the previous year.But the year 2017 had a huge influx of group customer type compare to previous years ,thereby shows a highe adr in 2017. The future trend of adr for group customer type we can predict from our bar plot that it will remain either nearly same as that of year 2017 or shows a little spike in adr from year 2017.\n",
        "\n",
        "5. Hence the above Multivariable analysis really helps us to see the past trends of adr in different years and to plan effectively focusing on different customer type data to predict the future trends in the upcoming years."
      ],
      "metadata": {
        "id": "n7Ok4tvXejIA"
      }
    },
    {
      "cell_type": "code",
      "source": [
        ""
      ],
      "metadata": {
        "id": "DfUzn3qLefQ2"
      },
      "execution_count": null,
      "outputs": []
    }
  ]
}