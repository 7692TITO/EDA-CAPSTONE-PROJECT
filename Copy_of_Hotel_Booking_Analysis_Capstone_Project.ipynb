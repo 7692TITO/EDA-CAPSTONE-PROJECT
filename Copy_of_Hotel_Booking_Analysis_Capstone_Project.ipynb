{
  "nbformat": 4,
  "nbformat_minor": 0,
  "metadata": {
    "kernelspec": {
      "display_name": "Python 3",
      "language": "python",
      "name": "python3"
    },
    "language_info": {
      "codemirror_mode": {
        "name": "ipython",
        "version": 3
      },
      "file_extension": ".py",
      "mimetype": "text/x-python",
      "name": "python",
      "nbconvert_exporter": "python",
      "pygments_lexer": "ipython3",
      "version": "3.6.6"
    },
    "colab": {
      "name": "Copy of Hotel Booking Analysis - Capstone Project.ipynb",
      "provenance": [],
      "collapsed_sections": [],
      "include_colab_link": true
    }
  },
  "cells": [
    {
      "cell_type": "markdown",
      "metadata": {
        "id": "view-in-github",
        "colab_type": "text"
      },
      "source": [
        "<a href=\"https://colab.research.google.com/github/7692TITO/EDA-CAPSTONE-PROJECT/blob/main/Copy_of_Hotel_Booking_Analysis_Capstone_Project.ipynb\" target=\"_parent\"><img src=\"https://colab.research.google.com/assets/colab-badge.svg\" alt=\"Open In Colab\"/></a>"
      ]
    },
    {
      "cell_type": "markdown",
      "metadata": {
        "id": "Y06xIdG26kRF"
      },
      "source": [
        "## <b> Have you ever wondered when the best time of year to book a hotel room is? Or the optimal length of stay in order to get the best daily rate? What if you wanted to predict whether or not a hotel was likely to receive a disproportionately high number of special requests? This hotel booking dataset can help you explore those questions!\n",
        "\n",
        "## <b>This data set contains booking information for a city hotel and a resort hotel, and includes information such as when the booking was made, length of stay, the number of adults, children, and/or babies, and the number of available parking spaces, among other things. All personally identifying information has been removed from the data. </b>\n",
        "\n",
        "## <b> Explore and analyze the data to discover important factors that govern the bookings. </b>"
      ]
    },
    {
      "cell_type": "markdown",
      "source": [
        "1. when the best time of year to book a hotel room is? \n",
        "2. the optimal length of stay in order to get the best daily rate? \n",
        "3. What if you wanted to predict whether or not a hotel was likely to receive a disproportionately high number of special requests? \n",
        "4.factors that govern the bookings."
      ],
      "metadata": {
        "id": "-B4-WmWcYXob"
      }
    },
    {
      "cell_type": "code",
      "metadata": {
        "id": "dByMsuzT8Tnw"
      },
      "source": [
        "import numpy as np                              # Import all the libraries required for EDA\n",
        "import pandas as pd\n",
        "import matplotlib.pyplot as plt\n",
        "import seaborn as sns\n"
      ],
      "execution_count": null,
      "outputs": []
    },
    {
      "cell_type": "code",
      "source": [
        "from google.colab import drive                 # Mount the Drive\n",
        "drive.mount('/content/drive')"
      ],
      "metadata": {
        "colab": {
          "base_uri": "https://localhost:8080/"
        },
        "id": "lSbLOWImuayI",
        "outputId": "4af82780-b4ad-4d10-fa42-be5ee6489d50"
      },
      "execution_count": null,
      "outputs": [
        {
          "output_type": "stream",
          "name": "stdout",
          "text": [
            "Drive already mounted at /content/drive; to attempt to forcibly remount, call drive.mount(\"/content/drive\", force_remount=True).\n"
          ]
        }
      ]
    },
    {
      "cell_type": "code",
      "source": [
        "df = pd.read_csv('/content/drive/MyDrive/Copy of Hotel Bookings (1).csv')   # Syntax to read the csv file\n",
        "                                                                        # df is the Dataframe name given to our dataset"
      ],
      "metadata": {
        "id": "GH8bes1OugKE"
      },
      "execution_count": null,
      "outputs": []
    },
    {
      "cell_type": "code",
      "source": [
        "df.head()"
      ],
      "metadata": {
        "colab": {
          "base_uri": "https://localhost:8080/",
          "height": 386
        },
        "id": "cDdqp1IluuMi",
        "outputId": "7b0d7d14-0af1-48b2-9cdb-92451b7552b3"
      },
      "execution_count": null,
      "outputs": [
        {
          "output_type": "execute_result",
          "data": {
            "text/plain": [
              "          hotel  is_canceled  lead_time  arrival_date_year arrival_date_month  \\\n",
              "0  Resort Hotel            0        342               2015               July   \n",
              "1  Resort Hotel            0        737               2015               July   \n",
              "2  Resort Hotel            0          7               2015               July   \n",
              "3  Resort Hotel            0         13               2015               July   \n",
              "4  Resort Hotel            0         14               2015               July   \n",
              "\n",
              "   arrival_date_week_number  arrival_date_day_of_month  \\\n",
              "0                        27                          1   \n",
              "1                        27                          1   \n",
              "2                        27                          1   \n",
              "3                        27                          1   \n",
              "4                        27                          1   \n",
              "\n",
              "   stays_in_weekend_nights  stays_in_week_nights  adults  ...  deposit_type  \\\n",
              "0                        0                     0       2  ...    No Deposit   \n",
              "1                        0                     0       2  ...    No Deposit   \n",
              "2                        0                     1       1  ...    No Deposit   \n",
              "3                        0                     1       1  ...    No Deposit   \n",
              "4                        0                     2       2  ...    No Deposit   \n",
              "\n",
              "   agent company days_in_waiting_list customer_type   adr  \\\n",
              "0    9.0    40.0                    0     Transient   0.0   \n",
              "1    9.0    40.0                    0     Transient   0.0   \n",
              "2    9.0    40.0                    0     Transient  75.0   \n",
              "3  304.0    40.0                    0     Transient  75.0   \n",
              "4  240.0    40.0                    0     Transient  98.0   \n",
              "\n",
              "   required_car_parking_spaces  total_of_special_requests  reservation_status  \\\n",
              "0                            0                          0           Check-Out   \n",
              "1                            0                          0           Check-Out   \n",
              "2                            0                          0           Check-Out   \n",
              "3                            0                          0           Check-Out   \n",
              "4                            0                          1           Check-Out   \n",
              "\n",
              "  reservation_status_date  \n",
              "0              2015-07-01  \n",
              "1              2015-07-01  \n",
              "2              2015-07-02  \n",
              "3              2015-07-02  \n",
              "4              2015-07-03  \n",
              "\n",
              "[5 rows x 32 columns]"
            ],
            "text/html": [
              "\n",
              "  <div id=\"df-02b3ee11-2515-447a-85bb-ec32ac35d7e1\">\n",
              "    <div class=\"colab-df-container\">\n",
              "      <div>\n",
              "<style scoped>\n",
              "    .dataframe tbody tr th:only-of-type {\n",
              "        vertical-align: middle;\n",
              "    }\n",
              "\n",
              "    .dataframe tbody tr th {\n",
              "        vertical-align: top;\n",
              "    }\n",
              "\n",
              "    .dataframe thead th {\n",
              "        text-align: right;\n",
              "    }\n",
              "</style>\n",
              "<table border=\"1\" class=\"dataframe\">\n",
              "  <thead>\n",
              "    <tr style=\"text-align: right;\">\n",
              "      <th></th>\n",
              "      <th>hotel</th>\n",
              "      <th>is_canceled</th>\n",
              "      <th>lead_time</th>\n",
              "      <th>arrival_date_year</th>\n",
              "      <th>arrival_date_month</th>\n",
              "      <th>arrival_date_week_number</th>\n",
              "      <th>arrival_date_day_of_month</th>\n",
              "      <th>stays_in_weekend_nights</th>\n",
              "      <th>stays_in_week_nights</th>\n",
              "      <th>adults</th>\n",
              "      <th>...</th>\n",
              "      <th>deposit_type</th>\n",
              "      <th>agent</th>\n",
              "      <th>company</th>\n",
              "      <th>days_in_waiting_list</th>\n",
              "      <th>customer_type</th>\n",
              "      <th>adr</th>\n",
              "      <th>required_car_parking_spaces</th>\n",
              "      <th>total_of_special_requests</th>\n",
              "      <th>reservation_status</th>\n",
              "      <th>reservation_status_date</th>\n",
              "    </tr>\n",
              "  </thead>\n",
              "  <tbody>\n",
              "    <tr>\n",
              "      <th>0</th>\n",
              "      <td>Resort Hotel</td>\n",
              "      <td>0</td>\n",
              "      <td>342</td>\n",
              "      <td>2015</td>\n",
              "      <td>July</td>\n",
              "      <td>27</td>\n",
              "      <td>1</td>\n",
              "      <td>0</td>\n",
              "      <td>0</td>\n",
              "      <td>2</td>\n",
              "      <td>...</td>\n",
              "      <td>No Deposit</td>\n",
              "      <td>9.0</td>\n",
              "      <td>40.0</td>\n",
              "      <td>0</td>\n",
              "      <td>Transient</td>\n",
              "      <td>0.0</td>\n",
              "      <td>0</td>\n",
              "      <td>0</td>\n",
              "      <td>Check-Out</td>\n",
              "      <td>2015-07-01</td>\n",
              "    </tr>\n",
              "    <tr>\n",
              "      <th>1</th>\n",
              "      <td>Resort Hotel</td>\n",
              "      <td>0</td>\n",
              "      <td>737</td>\n",
              "      <td>2015</td>\n",
              "      <td>July</td>\n",
              "      <td>27</td>\n",
              "      <td>1</td>\n",
              "      <td>0</td>\n",
              "      <td>0</td>\n",
              "      <td>2</td>\n",
              "      <td>...</td>\n",
              "      <td>No Deposit</td>\n",
              "      <td>9.0</td>\n",
              "      <td>40.0</td>\n",
              "      <td>0</td>\n",
              "      <td>Transient</td>\n",
              "      <td>0.0</td>\n",
              "      <td>0</td>\n",
              "      <td>0</td>\n",
              "      <td>Check-Out</td>\n",
              "      <td>2015-07-01</td>\n",
              "    </tr>\n",
              "    <tr>\n",
              "      <th>2</th>\n",
              "      <td>Resort Hotel</td>\n",
              "      <td>0</td>\n",
              "      <td>7</td>\n",
              "      <td>2015</td>\n",
              "      <td>July</td>\n",
              "      <td>27</td>\n",
              "      <td>1</td>\n",
              "      <td>0</td>\n",
              "      <td>1</td>\n",
              "      <td>1</td>\n",
              "      <td>...</td>\n",
              "      <td>No Deposit</td>\n",
              "      <td>9.0</td>\n",
              "      <td>40.0</td>\n",
              "      <td>0</td>\n",
              "      <td>Transient</td>\n",
              "      <td>75.0</td>\n",
              "      <td>0</td>\n",
              "      <td>0</td>\n",
              "      <td>Check-Out</td>\n",
              "      <td>2015-07-02</td>\n",
              "    </tr>\n",
              "    <tr>\n",
              "      <th>3</th>\n",
              "      <td>Resort Hotel</td>\n",
              "      <td>0</td>\n",
              "      <td>13</td>\n",
              "      <td>2015</td>\n",
              "      <td>July</td>\n",
              "      <td>27</td>\n",
              "      <td>1</td>\n",
              "      <td>0</td>\n",
              "      <td>1</td>\n",
              "      <td>1</td>\n",
              "      <td>...</td>\n",
              "      <td>No Deposit</td>\n",
              "      <td>304.0</td>\n",
              "      <td>40.0</td>\n",
              "      <td>0</td>\n",
              "      <td>Transient</td>\n",
              "      <td>75.0</td>\n",
              "      <td>0</td>\n",
              "      <td>0</td>\n",
              "      <td>Check-Out</td>\n",
              "      <td>2015-07-02</td>\n",
              "    </tr>\n",
              "    <tr>\n",
              "      <th>4</th>\n",
              "      <td>Resort Hotel</td>\n",
              "      <td>0</td>\n",
              "      <td>14</td>\n",
              "      <td>2015</td>\n",
              "      <td>July</td>\n",
              "      <td>27</td>\n",
              "      <td>1</td>\n",
              "      <td>0</td>\n",
              "      <td>2</td>\n",
              "      <td>2</td>\n",
              "      <td>...</td>\n",
              "      <td>No Deposit</td>\n",
              "      <td>240.0</td>\n",
              "      <td>40.0</td>\n",
              "      <td>0</td>\n",
              "      <td>Transient</td>\n",
              "      <td>98.0</td>\n",
              "      <td>0</td>\n",
              "      <td>1</td>\n",
              "      <td>Check-Out</td>\n",
              "      <td>2015-07-03</td>\n",
              "    </tr>\n",
              "  </tbody>\n",
              "</table>\n",
              "<p>5 rows × 32 columns</p>\n",
              "</div>\n",
              "      <button class=\"colab-df-convert\" onclick=\"convertToInteractive('df-02b3ee11-2515-447a-85bb-ec32ac35d7e1')\"\n",
              "              title=\"Convert this dataframe to an interactive table.\"\n",
              "              style=\"display:none;\">\n",
              "        \n",
              "  <svg xmlns=\"http://www.w3.org/2000/svg\" height=\"24px\"viewBox=\"0 0 24 24\"\n",
              "       width=\"24px\">\n",
              "    <path d=\"M0 0h24v24H0V0z\" fill=\"none\"/>\n",
              "    <path d=\"M18.56 5.44l.94 2.06.94-2.06 2.06-.94-2.06-.94-.94-2.06-.94 2.06-2.06.94zm-11 1L8.5 8.5l.94-2.06 2.06-.94-2.06-.94L8.5 2.5l-.94 2.06-2.06.94zm10 10l.94 2.06.94-2.06 2.06-.94-2.06-.94-.94-2.06-.94 2.06-2.06.94z\"/><path d=\"M17.41 7.96l-1.37-1.37c-.4-.4-.92-.59-1.43-.59-.52 0-1.04.2-1.43.59L10.3 9.45l-7.72 7.72c-.78.78-.78 2.05 0 2.83L4 21.41c.39.39.9.59 1.41.59.51 0 1.02-.2 1.41-.59l7.78-7.78 2.81-2.81c.8-.78.8-2.07 0-2.86zM5.41 20L4 18.59l7.72-7.72 1.47 1.35L5.41 20z\"/>\n",
              "  </svg>\n",
              "      </button>\n",
              "      \n",
              "  <style>\n",
              "    .colab-df-container {\n",
              "      display:flex;\n",
              "      flex-wrap:wrap;\n",
              "      gap: 12px;\n",
              "    }\n",
              "\n",
              "    .colab-df-convert {\n",
              "      background-color: #E8F0FE;\n",
              "      border: none;\n",
              "      border-radius: 50%;\n",
              "      cursor: pointer;\n",
              "      display: none;\n",
              "      fill: #1967D2;\n",
              "      height: 32px;\n",
              "      padding: 0 0 0 0;\n",
              "      width: 32px;\n",
              "    }\n",
              "\n",
              "    .colab-df-convert:hover {\n",
              "      background-color: #E2EBFA;\n",
              "      box-shadow: 0px 1px 2px rgba(60, 64, 67, 0.3), 0px 1px 3px 1px rgba(60, 64, 67, 0.15);\n",
              "      fill: #174EA6;\n",
              "    }\n",
              "\n",
              "    [theme=dark] .colab-df-convert {\n",
              "      background-color: #3B4455;\n",
              "      fill: #D2E3FC;\n",
              "    }\n",
              "\n",
              "    [theme=dark] .colab-df-convert:hover {\n",
              "      background-color: #434B5C;\n",
              "      box-shadow: 0px 1px 3px 1px rgba(0, 0, 0, 0.15);\n",
              "      filter: drop-shadow(0px 1px 2px rgba(0, 0, 0, 0.3));\n",
              "      fill: #FFFFFF;\n",
              "    }\n",
              "  </style>\n",
              "\n",
              "      <script>\n",
              "        const buttonEl =\n",
              "          document.querySelector('#df-02b3ee11-2515-447a-85bb-ec32ac35d7e1 button.colab-df-convert');\n",
              "        buttonEl.style.display =\n",
              "          google.colab.kernel.accessAllowed ? 'block' : 'none';\n",
              "\n",
              "        async function convertToInteractive(key) {\n",
              "          const element = document.querySelector('#df-02b3ee11-2515-447a-85bb-ec32ac35d7e1');\n",
              "          const dataTable =\n",
              "            await google.colab.kernel.invokeFunction('convertToInteractive',\n",
              "                                                     [key], {});\n",
              "          if (!dataTable) return;\n",
              "\n",
              "          const docLinkHtml = 'Like what you see? Visit the ' +\n",
              "            '<a target=\"_blank\" href=https://colab.research.google.com/notebooks/data_table.ipynb>data table notebook</a>'\n",
              "            + ' to learn more about interactive tables.';\n",
              "          element.innerHTML = '';\n",
              "          dataTable['output_type'] = 'display_data';\n",
              "          await google.colab.output.renderOutput(dataTable, element);\n",
              "          const docLink = document.createElement('div');\n",
              "          docLink.innerHTML = docLinkHtml;\n",
              "          element.appendChild(docLink);\n",
              "        }\n",
              "      </script>\n",
              "    </div>\n",
              "  </div>\n",
              "  "
            ]
          },
          "metadata": {},
          "execution_count": 324
        }
      ]
    },
    {
      "cell_type": "code",
      "source": [
        "df.shape"
      ],
      "metadata": {
        "colab": {
          "base_uri": "https://localhost:8080/"
        },
        "id": "rn-wsumcHnqG",
        "outputId": "21d10f8d-16ec-40ec-d384-f359acbf18f0"
      },
      "execution_count": null,
      "outputs": [
        {
          "output_type": "execute_result",
          "data": {
            "text/plain": [
              "(119390, 32)"
            ]
          },
          "metadata": {},
          "execution_count": 146
        }
      ]
    },
    {
      "cell_type": "code",
      "source": [
        "df.info()"
      ],
      "metadata": {
        "colab": {
          "base_uri": "https://localhost:8080/"
        },
        "id": "wbrGiVSlu3sT",
        "outputId": "80bc8ae9-bd53-4e29-cbb1-bb2e71532946"
      },
      "execution_count": null,
      "outputs": [
        {
          "output_type": "stream",
          "name": "stdout",
          "text": [
            "<class 'pandas.core.frame.DataFrame'>\n",
            "RangeIndex: 119390 entries, 0 to 119389\n",
            "Data columns (total 32 columns):\n",
            " #   Column                          Non-Null Count   Dtype  \n",
            "---  ------                          --------------   -----  \n",
            " 0   hotel                           119390 non-null  object \n",
            " 1   is_canceled                     119390 non-null  int64  \n",
            " 2   lead_time                       119390 non-null  int64  \n",
            " 3   arrival_date_year               119390 non-null  int64  \n",
            " 4   arrival_date_month              119390 non-null  object \n",
            " 5   arrival_date_week_number        119390 non-null  int64  \n",
            " 6   arrival_date_day_of_month       119390 non-null  int64  \n",
            " 7   stays_in_weekend_nights         119390 non-null  int64  \n",
            " 8   stays_in_week_nights            119390 non-null  int64  \n",
            " 9   adults                          119390 non-null  int64  \n",
            " 10  children                        119386 non-null  float64\n",
            " 11  babies                          119390 non-null  int64  \n",
            " 12  meal                            119390 non-null  object \n",
            " 13  country                         118902 non-null  object \n",
            " 14  market_segment                  119390 non-null  object \n",
            " 15  distribution_channel            119390 non-null  object \n",
            " 16  is_repeated_guest               119390 non-null  int64  \n",
            " 17  previous_cancellations          119390 non-null  int64  \n",
            " 18  previous_bookings_not_canceled  119390 non-null  int64  \n",
            " 19  reserved_room_type              119390 non-null  object \n",
            " 20  assigned_room_type              119390 non-null  object \n",
            " 21  booking_changes                 119390 non-null  int64  \n",
            " 22  deposit_type                    119390 non-null  object \n",
            " 23  agent                           103050 non-null  float64\n",
            " 24  company                         6797 non-null    float64\n",
            " 25  days_in_waiting_list            119390 non-null  int64  \n",
            " 26  customer_type                   119390 non-null  object \n",
            " 27  adr                             119390 non-null  float64\n",
            " 28  required_car_parking_spaces     119390 non-null  int64  \n",
            " 29  total_of_special_requests       119390 non-null  int64  \n",
            " 30  reservation_status              119390 non-null  object \n",
            " 31  reservation_status_date         119390 non-null  object \n",
            "dtypes: float64(4), int64(16), object(12)\n",
            "memory usage: 29.1+ MB\n"
          ]
        }
      ]
    },
    {
      "cell_type": "code",
      "source": [
        "df['agent'].value_counts()"
      ],
      "metadata": {
        "colab": {
          "base_uri": "https://localhost:8080/"
        },
        "id": "LIOHSwLjiEMa",
        "outputId": "2469710d-1bdc-46cd-a09b-3b3a7aa4ffeb"
      },
      "execution_count": null,
      "outputs": [
        {
          "output_type": "execute_result",
          "data": {
            "text/plain": [
              "9.0      31961\n",
              "240.0    13922\n",
              "1.0       7191\n",
              "14.0      3640\n",
              "7.0       3539\n",
              "         ...  \n",
              "289.0        1\n",
              "432.0        1\n",
              "265.0        1\n",
              "93.0         1\n",
              "304.0        1\n",
              "Name: agent, Length: 333, dtype: int64"
            ]
          },
          "metadata": {},
          "execution_count": 148
        }
      ]
    },
    {
      "cell_type": "code",
      "source": [
        "df['company'].value_counts()"
      ],
      "metadata": {
        "colab": {
          "base_uri": "https://localhost:8080/"
        },
        "id": "gD7PEYWXVsOp",
        "outputId": "9d23d916-d83a-4b11-a930-484489112a74"
      },
      "execution_count": null,
      "outputs": [
        {
          "output_type": "execute_result",
          "data": {
            "text/plain": [
              "40.0     927\n",
              "223.0    784\n",
              "67.0     267\n",
              "45.0     250\n",
              "153.0    215\n",
              "        ... \n",
              "104.0      1\n",
              "531.0      1\n",
              "160.0      1\n",
              "413.0      1\n",
              "386.0      1\n",
              "Name: company, Length: 352, dtype: int64"
            ]
          },
          "metadata": {},
          "execution_count": 149
        }
      ]
    },
    {
      "cell_type": "markdown",
      "source": [
        "## **1. Data Cleaning**"
      ],
      "metadata": {
        "id": "TI8mTKfGltah"
      }
    },
    {
      "cell_type": "markdown",
      "source": [
        " a) Checking for data type"
      ],
      "metadata": {
        "id": "kfhInJgaaXVD"
      }
    },
    {
      "cell_type": "code",
      "source": [
        "df.dtypes"
      ],
      "metadata": {
        "colab": {
          "base_uri": "https://localhost:8080/"
        },
        "id": "yi7L7TJvau-k",
        "outputId": "6531cccc-98e7-4f78-e10e-3185a545f438"
      },
      "execution_count": null,
      "outputs": [
        {
          "output_type": "execute_result",
          "data": {
            "text/plain": [
              "hotel                              object\n",
              "is_canceled                         int64\n",
              "lead_time                           int64\n",
              "arrival_date_year                   int64\n",
              "arrival_date_month                 object\n",
              "arrival_date_week_number            int64\n",
              "arrival_date_day_of_month           int64\n",
              "stays_in_weekend_nights             int64\n",
              "stays_in_week_nights                int64\n",
              "adults                              int64\n",
              "children                          float64\n",
              "babies                              int64\n",
              "meal                               object\n",
              "country                            object\n",
              "market_segment                     object\n",
              "distribution_channel               object\n",
              "is_repeated_guest                   int64\n",
              "previous_cancellations              int64\n",
              "previous_bookings_not_canceled      int64\n",
              "reserved_room_type                 object\n",
              "assigned_room_type                 object\n",
              "booking_changes                     int64\n",
              "deposit_type                       object\n",
              "agent                             float64\n",
              "company                           float64\n",
              "days_in_waiting_list                int64\n",
              "customer_type                      object\n",
              "adr                               float64\n",
              "required_car_parking_spaces         int64\n",
              "total_of_special_requests           int64\n",
              "reservation_status                 object\n",
              "reservation_status_date            object\n",
              "dtype: object"
            ]
          },
          "metadata": {},
          "execution_count": 150
        }
      ]
    },
    {
      "cell_type": "code",
      "source": [
        "df['reservation_status_data'] = pd.to_datetime(df['reservation_status_date'], format = '%Y-%m-%d') #change the datatype of reservation status date to datetime"
      ],
      "metadata": {
        "id": "j-rvCx-_egRB"
      },
      "execution_count": null,
      "outputs": []
    },
    {
      "cell_type": "code",
      "source": [
        "df.info()"
      ],
      "metadata": {
        "colab": {
          "base_uri": "https://localhost:8080/"
        },
        "id": "sEUfwvWGcYtN",
        "outputId": "1742b1f6-52ea-4d6b-e7f8-e79abc3888fd"
      },
      "execution_count": null,
      "outputs": [
        {
          "output_type": "stream",
          "name": "stdout",
          "text": [
            "<class 'pandas.core.frame.DataFrame'>\n",
            "RangeIndex: 119390 entries, 0 to 119389\n",
            "Data columns (total 33 columns):\n",
            " #   Column                          Non-Null Count   Dtype         \n",
            "---  ------                          --------------   -----         \n",
            " 0   hotel                           119390 non-null  object        \n",
            " 1   is_canceled                     119390 non-null  int64         \n",
            " 2   lead_time                       119390 non-null  int64         \n",
            " 3   arrival_date_year               119390 non-null  int64         \n",
            " 4   arrival_date_month              119390 non-null  object        \n",
            " 5   arrival_date_week_number        119390 non-null  int64         \n",
            " 6   arrival_date_day_of_month       119390 non-null  int64         \n",
            " 7   stays_in_weekend_nights         119390 non-null  int64         \n",
            " 8   stays_in_week_nights            119390 non-null  int64         \n",
            " 9   adults                          119390 non-null  int64         \n",
            " 10  children                        119386 non-null  float64       \n",
            " 11  babies                          119390 non-null  int64         \n",
            " 12  meal                            119390 non-null  object        \n",
            " 13  country                         118902 non-null  object        \n",
            " 14  market_segment                  119390 non-null  object        \n",
            " 15  distribution_channel            119390 non-null  object        \n",
            " 16  is_repeated_guest               119390 non-null  int64         \n",
            " 17  previous_cancellations          119390 non-null  int64         \n",
            " 18  previous_bookings_not_canceled  119390 non-null  int64         \n",
            " 19  reserved_room_type              119390 non-null  object        \n",
            " 20  assigned_room_type              119390 non-null  object        \n",
            " 21  booking_changes                 119390 non-null  int64         \n",
            " 22  deposit_type                    119390 non-null  object        \n",
            " 23  agent                           103050 non-null  float64       \n",
            " 24  company                         6797 non-null    float64       \n",
            " 25  days_in_waiting_list            119390 non-null  int64         \n",
            " 26  customer_type                   119390 non-null  object        \n",
            " 27  adr                             119390 non-null  float64       \n",
            " 28  required_car_parking_spaces     119390 non-null  int64         \n",
            " 29  total_of_special_requests       119390 non-null  int64         \n",
            " 30  reservation_status              119390 non-null  object        \n",
            " 31  reservation_status_date         119390 non-null  object        \n",
            " 32  reservation_status_data         119390 non-null  datetime64[ns]\n",
            "dtypes: datetime64[ns](1), float64(4), int64(16), object(12)\n",
            "memory usage: 30.1+ MB\n"
          ]
        }
      ]
    },
    {
      "cell_type": "markdown",
      "source": [
        "b) **Checking for missing values**"
      ],
      "metadata": {
        "id": "5_BLRdaWl9ge"
      }
    },
    {
      "cell_type": "code",
      "source": [
        "df.isnull().sum().sort_values(ascending=False)"
      ],
      "metadata": {
        "colab": {
          "base_uri": "https://localhost:8080/"
        },
        "id": "bxIoCJL-vRCO",
        "outputId": "9241dc4e-545a-4a18-d0b5-e74a90b1982a"
      },
      "execution_count": null,
      "outputs": [
        {
          "output_type": "execute_result",
          "data": {
            "text/plain": [
              "company                           112593\n",
              "agent                              16340\n",
              "country                              488\n",
              "children                               4\n",
              "hotel                                  0\n",
              "assigned_room_type                     0\n",
              "booking_changes                        0\n",
              "deposit_type                           0\n",
              "days_in_waiting_list                   0\n",
              "previous_bookings_not_canceled         0\n",
              "customer_type                          0\n",
              "adr                                    0\n",
              "required_car_parking_spaces            0\n",
              "total_of_special_requests              0\n",
              "reservation_status                     0\n",
              "reservation_status_date                0\n",
              "reserved_room_type                     0\n",
              "is_repeated_guest                      0\n",
              "previous_cancellations                 0\n",
              "is_canceled                            0\n",
              "distribution_channel                   0\n",
              "market_segment                         0\n",
              "meal                                   0\n",
              "babies                                 0\n",
              "adults                                 0\n",
              "stays_in_week_nights                   0\n",
              "stays_in_weekend_nights                0\n",
              "arrival_date_day_of_month              0\n",
              "arrival_date_week_number               0\n",
              "arrival_date_month                     0\n",
              "arrival_date_year                      0\n",
              "lead_time                              0\n",
              "reservation_status_data                0\n",
              "dtype: int64"
            ]
          },
          "metadata": {},
          "execution_count": 153
        }
      ]
    },
    {
      "cell_type": "markdown",
      "source": [
        "The following coulmns name company , agent , country  , children has null values in it."
      ],
      "metadata": {
        "id": "vXoxZg65nZRC"
      }
    },
    {
      "cell_type": "markdown",
      "source": [
        "b) **Filling the null values with adequate values**"
      ],
      "metadata": {
        "id": "Y_31QvYSn5r0"
      }
    },
    {
      "cell_type": "code",
      "source": [
        "df['agent'].fillna(9 , inplace = True)    # fill null  value with mode so that to prevent outliers \n",
        "df['country'].fillna('Not defined',inplace = True) # we use Not defined here because country is a object data type\n",
        "df['children'].fillna(0 , inplace = True)\n",
        "df['company'].fillna(40 , inplace = True)  # fill null  value with mode so that to prevent outliers\n",
        "df.shape"
      ],
      "metadata": {
        "colab": {
          "base_uri": "https://localhost:8080/"
        },
        "id": "dQp3jWJ8899b",
        "outputId": "538a41cb-3f89-4264-b372-57e927187028"
      },
      "execution_count": null,
      "outputs": [
        {
          "output_type": "execute_result",
          "data": {
            "text/plain": [
              "(119390, 33)"
            ]
          },
          "metadata": {},
          "execution_count": 154
        }
      ]
    },
    {
      "cell_type": "code",
      "source": [
        "df.isna().sum()      # checking again to see whether all null values are filled or not"
      ],
      "metadata": {
        "colab": {
          "base_uri": "https://localhost:8080/"
        },
        "id": "HsK3t_Fbp6ME",
        "outputId": "6cf60ffa-cfe6-4e87-f3a4-382cbd56f9ab"
      },
      "execution_count": null,
      "outputs": [
        {
          "output_type": "execute_result",
          "data": {
            "text/plain": [
              "hotel                             0\n",
              "is_canceled                       0\n",
              "lead_time                         0\n",
              "arrival_date_year                 0\n",
              "arrival_date_month                0\n",
              "arrival_date_week_number          0\n",
              "arrival_date_day_of_month         0\n",
              "stays_in_weekend_nights           0\n",
              "stays_in_week_nights              0\n",
              "adults                            0\n",
              "children                          0\n",
              "babies                            0\n",
              "meal                              0\n",
              "country                           0\n",
              "market_segment                    0\n",
              "distribution_channel              0\n",
              "is_repeated_guest                 0\n",
              "previous_cancellations            0\n",
              "previous_bookings_not_canceled    0\n",
              "reserved_room_type                0\n",
              "assigned_room_type                0\n",
              "booking_changes                   0\n",
              "deposit_type                      0\n",
              "agent                             0\n",
              "company                           0\n",
              "days_in_waiting_list              0\n",
              "customer_type                     0\n",
              "adr                               0\n",
              "required_car_parking_spaces       0\n",
              "total_of_special_requests         0\n",
              "reservation_status                0\n",
              "reservation_status_date           0\n",
              "reservation_status_data           0\n",
              "dtype: int64"
            ]
          },
          "metadata": {},
          "execution_count": 155
        }
      ]
    },
    {
      "cell_type": "markdown",
      "source": [
        "c) **Check for duplicate value rows**"
      ],
      "metadata": {
        "id": "97BmU2hKtGcC"
      }
    },
    {
      "cell_type": "code",
      "source": [
        "df.duplicated().value_counts()"
      ],
      "metadata": {
        "colab": {
          "base_uri": "https://localhost:8080/"
        },
        "id": "NTxmjdr6tU52",
        "outputId": "f51f3cfe-0c30-475f-b4f4-81c592094970"
      },
      "execution_count": null,
      "outputs": [
        {
          "output_type": "execute_result",
          "data": {
            "text/plain": [
              "False    87395\n",
              "True     31995\n",
              "dtype: int64"
            ]
          },
          "metadata": {},
          "execution_count": 156
        }
      ]
    },
    {
      "cell_type": "markdown",
      "source": [
        "We can see from above data that we have 31994 rows with duplicate values.We will remove duplicate values now"
      ],
      "metadata": {
        "id": "ughZPFMrtv0l"
      }
    },
    {
      "cell_type": "code",
      "source": [
        "df.drop_duplicates(inplace=True)    # syntax to remove duplicate values"
      ],
      "metadata": {
        "id": "9zixW1FTuDfO"
      },
      "execution_count": null,
      "outputs": []
    },
    {
      "cell_type": "code",
      "source": [
        "df.duplicated().value_counts()      # Hence we have removed all the duplicate values from the row"
      ],
      "metadata": {
        "colab": {
          "base_uri": "https://localhost:8080/"
        },
        "id": "Q6np4IfXufSu",
        "outputId": "512a7f61-4233-4d5d-a607-91f7c1634703"
      },
      "execution_count": null,
      "outputs": [
        {
          "output_type": "execute_result",
          "data": {
            "text/plain": [
              "False    87395\n",
              "dtype: int64"
            ]
          },
          "metadata": {},
          "execution_count": 158
        }
      ]
    },
    {
      "cell_type": "code",
      "source": [
        "df.shape"
      ],
      "metadata": {
        "colab": {
          "base_uri": "https://localhost:8080/"
        },
        "id": "lilMujHy-Cyo",
        "outputId": "a460912c-8b93-411d-df86-b7514e4fda52"
      },
      "execution_count": null,
      "outputs": [
        {
          "output_type": "execute_result",
          "data": {
            "text/plain": [
              "(87395, 33)"
            ]
          },
          "metadata": {},
          "execution_count": 159
        }
      ]
    },
    {
      "cell_type": "markdown",
      "source": [
        "## **Exploratory Data Analysis**"
      ],
      "metadata": {
        "id": "4BAyzX7IYU_b"
      }
    },
    {
      "cell_type": "code",
      "source": [
        ""
      ],
      "metadata": {
        "id": "tpNxEL3bYn01"
      },
      "execution_count": null,
      "outputs": []
    },
    {
      "cell_type": "markdown",
      "source": [
        "## **a) Univariate Analysis**"
      ],
      "metadata": {
        "id": "4oo4L1HDYstZ"
      }
    },
    {
      "cell_type": "code",
      "source": [
        "df.columns\n"
      ],
      "metadata": {
        "colab": {
          "base_uri": "https://localhost:8080/"
        },
        "id": "MsPVwbH1Y2sA",
        "outputId": "e72cea43-5865-4c18-be7b-96de301e3fba"
      },
      "execution_count": null,
      "outputs": [
        {
          "output_type": "execute_result",
          "data": {
            "text/plain": [
              "Index(['hotel', 'is_canceled', 'lead_time', 'arrival_date_year',\n",
              "       'arrival_date_month', 'arrival_date_week_number',\n",
              "       'arrival_date_day_of_month', 'stays_in_weekend_nights',\n",
              "       'stays_in_week_nights', 'adults', 'children', 'babies', 'meal',\n",
              "       'country', 'market_segment', 'distribution_channel',\n",
              "       'is_repeated_guest', 'previous_cancellations',\n",
              "       'previous_bookings_not_canceled', 'reserved_room_type',\n",
              "       'assigned_room_type', 'booking_changes', 'deposit_type', 'agent',\n",
              "       'company', 'days_in_waiting_list', 'customer_type', 'adr',\n",
              "       'required_car_parking_spaces', 'total_of_special_requests',\n",
              "       'reservation_status', 'reservation_status_date',\n",
              "       'reservation_status_data'],\n",
              "      dtype='object')"
            ]
          },
          "metadata": {},
          "execution_count": 160
        }
      ]
    },
    {
      "cell_type": "code",
      "source": [
        "df.info()"
      ],
      "metadata": {
        "colab": {
          "base_uri": "https://localhost:8080/"
        },
        "id": "aJbmgrExY-O7",
        "outputId": "887d1e84-d645-4417-91c8-c5238cf1c8d6"
      },
      "execution_count": null,
      "outputs": [
        {
          "output_type": "stream",
          "name": "stdout",
          "text": [
            "<class 'pandas.core.frame.DataFrame'>\n",
            "Int64Index: 87395 entries, 0 to 119389\n",
            "Data columns (total 33 columns):\n",
            " #   Column                          Non-Null Count  Dtype         \n",
            "---  ------                          --------------  -----         \n",
            " 0   hotel                           87395 non-null  object        \n",
            " 1   is_canceled                     87395 non-null  int64         \n",
            " 2   lead_time                       87395 non-null  int64         \n",
            " 3   arrival_date_year               87395 non-null  int64         \n",
            " 4   arrival_date_month              87395 non-null  object        \n",
            " 5   arrival_date_week_number        87395 non-null  int64         \n",
            " 6   arrival_date_day_of_month       87395 non-null  int64         \n",
            " 7   stays_in_weekend_nights         87395 non-null  int64         \n",
            " 8   stays_in_week_nights            87395 non-null  int64         \n",
            " 9   adults                          87395 non-null  int64         \n",
            " 10  children                        87395 non-null  float64       \n",
            " 11  babies                          87395 non-null  int64         \n",
            " 12  meal                            87395 non-null  object        \n",
            " 13  country                         87395 non-null  object        \n",
            " 14  market_segment                  87395 non-null  object        \n",
            " 15  distribution_channel            87395 non-null  object        \n",
            " 16  is_repeated_guest               87395 non-null  int64         \n",
            " 17  previous_cancellations          87395 non-null  int64         \n",
            " 18  previous_bookings_not_canceled  87395 non-null  int64         \n",
            " 19  reserved_room_type              87395 non-null  object        \n",
            " 20  assigned_room_type              87395 non-null  object        \n",
            " 21  booking_changes                 87395 non-null  int64         \n",
            " 22  deposit_type                    87395 non-null  object        \n",
            " 23  agent                           87395 non-null  float64       \n",
            " 24  company                         87395 non-null  float64       \n",
            " 25  days_in_waiting_list            87395 non-null  int64         \n",
            " 26  customer_type                   87395 non-null  object        \n",
            " 27  adr                             87395 non-null  float64       \n",
            " 28  required_car_parking_spaces     87395 non-null  int64         \n",
            " 29  total_of_special_requests       87395 non-null  int64         \n",
            " 30  reservation_status              87395 non-null  object        \n",
            " 31  reservation_status_date         87395 non-null  object        \n",
            " 32  reservation_status_data         87395 non-null  datetime64[ns]\n",
            "dtypes: datetime64[ns](1), float64(4), int64(16), object(12)\n",
            "memory usage: 22.7+ MB\n"
          ]
        }
      ]
    },
    {
      "cell_type": "markdown",
      "source": [
        "### 1. **The most demanded hotel by the customer**"
      ],
      "metadata": {
        "id": "1fFtlHLmfM-Q"
      }
    },
    {
      "cell_type": "code",
      "source": [
        "Hotel_most_preferred = (df['hotel'].value_counts()/df['hotel'].size)*100    # Showing the data in percentage\n",
        "Hotel_most_preferred"
      ],
      "metadata": {
        "colab": {
          "base_uri": "https://localhost:8080/"
        },
        "id": "iiMndRQbbelA",
        "outputId": "5507f325-50ee-486b-f599-a2cc72f9d801"
      },
      "execution_count": null,
      "outputs": [
        {
          "output_type": "execute_result",
          "data": {
            "text/plain": [
              "City Hotel      61.132788\n",
              "Resort Hotel    38.867212\n",
              "Name: hotel, dtype: float64"
            ]
          },
          "metadata": {},
          "execution_count": 162
        }
      ]
    },
    {
      "cell_type": "code",
      "source": [
        "from IPython.core.pylabtools import figsize\n",
        "plt.rcParams['figure.figsize'] = (16,8)\n",
        "Hotel_most_preferred.plot(kind='bar')\n",
        "plt.ylabel('Number of Bookings')\n",
        "plt.show()"
      ],
      "metadata": {
        "colab": {
          "base_uri": "https://localhost:8080/",
          "height": 534
        },
        "id": "4pDYq6PedcrA",
        "outputId": "b25720b2-ffdf-4e94-80f3-0a033f1c7fdf"
      },
      "execution_count": null,
      "outputs": [
        {
          "output_type": "display_data",
          "data": {
            "text/plain": [
              "<Figure size 1152x576 with 1 Axes>"
            ],
            "image/png": "[encoded data removed]"
          },
          "metadata": {
            "needs_background": "light"
          }
        }
      ]
    },
    {
      "cell_type": "markdown",
      "source": [
        "Conclusion"
      ],
      "metadata": {
        "id": "vpM4uY_LgDrc"
      }
    },
    {
      "cell_type": "code",
      "source": [
        "# We can conclude from the above given bar plot that the most preferred hotel for the Customer is a City Hotel compared to a Resort Hotel"
      ],
      "metadata": {
        "id": "59ZmjRI9fqo1"
      },
      "execution_count": null,
      "outputs": []
    },
    {
      "cell_type": "markdown",
      "source": [
        "### 2. **From which country the most number of booking of hotel rooms is coming**"
      ],
      "metadata": {
        "id": "7IXKkMuNgaoe"
      }
    },
    {
      "cell_type": "code",
      "source": [
        "Country_of_origin = df['country'].value_counts()[:5]"
      ],
      "metadata": {
        "id": "doB-xjO7gW7h"
      },
      "execution_count": null,
      "outputs": []
    },
    {
      "cell_type": "code",
      "source": [
        "from IPython.core.pylabtools import figsize\n",
        "plt.rcParams['figure.figsize'] = (16,8)\n",
        "Country_of_origin.plot(kind='bar')\n",
        "plt.ylabel('Number of Bookings')\n",
        "plt.show()"
      ],
      "metadata": {
        "colab": {
          "base_uri": "https://localhost:8080/",
          "height": 494
        },
        "id": "uWxOebNghkkH",
        "outputId": "e422b93f-c278-494b-a6a9-8372e425d3c4"
      },
      "execution_count": null,
      "outputs": [
        {
          "output_type": "display_data",
          "data": {
            "text/plain": [
              "<Figure size 1152x576 with 1 Axes>"
            ],
            "image/png": "[encoded data removed]"
          },
          "metadata": {
            "needs_background": "light"
          }
        }
      ]
    },
    {
      "cell_type": "markdown",
      "source": [
        "Conclusion"
      ],
      "metadata": {
        "id": "kN9N1O3DiBw2"
      }
    },
    {
      "cell_type": "code",
      "source": [
        "# We can conclude from the above bar plot that the most number of people who have done the hotel bookings are from Portugal.In second stands the Great Britain and third is France"
      ],
      "metadata": {
        "id": "2yF6ovO6iBHM"
      },
      "execution_count": null,
      "outputs": []
    },
    {
      "cell_type": "code",
      "source": [
        ""
      ],
      "metadata": {
        "id": "K5v5cNm-ivdJ"
      },
      "execution_count": null,
      "outputs": []
    },
    {
      "cell_type": "markdown",
      "source": [
        "### 3. **The Market Segment with highest booking**\n",
        "\n",
        "\n",
        "\n"
      ],
      "metadata": {
        "id": "0XJLG0uojGRU"
      }
    },
    {
      "cell_type": "code",
      "source": [
        "market_players = df['market_segment'].value_counts()\n",
        "market_players"
      ],
      "metadata": {
        "colab": {
          "base_uri": "https://localhost:8080/"
        },
        "id": "1AxDkf7WjOAq",
        "outputId": "16922054-ceaf-46c2-9f8f-d03d444bbc22"
      },
      "execution_count": null,
      "outputs": [
        {
          "output_type": "execute_result",
          "data": {
            "text/plain": [
              "Online TA        51617\n",
              "Offline TA/TO    13889\n",
              "Direct           11804\n",
              "Groups            4942\n",
              "Corporate         4212\n",
              "Complementary      702\n",
              "Aviation           227\n",
              "Undefined            2\n",
              "Name: market_segment, dtype: int64"
            ]
          },
          "metadata": {},
          "execution_count": 31
        }
      ]
    },
    {
      "cell_type": "code",
      "source": [
        "from IPython.core.pylabtools import figsize\n",
        "plt.rcParams['figure.figsize'] = (16,8)\n",
        "market_players.plot(kind='bar')\n",
        "plt.ylabel('Number of Bookings')\n",
        "plt.show()"
      ],
      "metadata": {
        "colab": {
          "base_uri": "https://localhost:8080/",
          "height": 553
        },
        "id": "K74kCXJEkU8g",
        "outputId": "802b227d-4ce3-4aee-bc29-f814dfa47d5e"
      },
      "execution_count": null,
      "outputs": [
        {
          "output_type": "display_data",
          "data": {
            "text/plain": [
              "<Figure size 1152x576 with 1 Axes>"
            ],
            "image/png": "[encoded data removed]"
          },
          "metadata": {
            "needs_background": "light"
          }
        }
      ]
    },
    {
      "cell_type": "code",
      "source": [
        ""
      ],
      "metadata": {
        "id": "3cQJWzMBkv_l"
      },
      "execution_count": null,
      "outputs": []
    },
    {
      "cell_type": "markdown",
      "source": [
        "Conclusion"
      ],
      "metadata": {
        "id": "rbY1ppRLkzuh"
      }
    },
    {
      "cell_type": "markdown",
      "source": [
        "### 4. The most successful Distribution Channel to book the hotel"
      ],
      "metadata": {
        "id": "xY5wus9Jk4jT"
      }
    },
    {
      "cell_type": "code",
      "source": [
        "distribution_channels = (df['distribution_channel'].value_counts()/df['distribution_channel'].size)*100"
      ],
      "metadata": {
        "id": "DbbggPI-jXYg"
      },
      "execution_count": null,
      "outputs": []
    },
    {
      "cell_type": "code",
      "source": [
        "from IPython.core.pylabtools import figsize\n",
        "plt.rcParams['figure.figsize'] = (16,8)\n",
        "distribution_channels.plot(kind='bar')\n",
        "plt.ylabel('Number of Bookings')\n",
        "plt.show()"
      ],
      "metadata": {
        "colab": {
          "base_uri": "https://localhost:8080/",
          "height": 524
        },
        "id": "sLEPwmQ6lMka",
        "outputId": "2b87bf16-53a0-4030-dcfb-748be89eeda8"
      },
      "execution_count": null,
      "outputs": [
        {
          "output_type": "display_data",
          "data": {
            "text/plain": [
              "<Figure size 1152x576 with 1 Axes>"
            ],
            "image/png": "[encoded data removed]"
          },
          "metadata": {
            "needs_background": "light"
          }
        }
      ]
    },
    {
      "cell_type": "code",
      "source": [
        ""
      ],
      "metadata": {
        "id": "zJyIZkzTlc4b"
      },
      "execution_count": null,
      "outputs": []
    },
    {
      "cell_type": "markdown",
      "source": [
        "Conclusion"
      ],
      "metadata": {
        "id": "mrrd7FtaldpC"
      }
    },
    {
      "cell_type": "markdown",
      "source": [
        "### 5. **The agent id with most number of bookings**"
      ],
      "metadata": {
        "id": "ARgUlWH7dXTI"
      }
    },
    {
      "cell_type": "code",
      "source": [
        "agent = df['agent'].value_counts()[:28]\n",
        "agent"
      ],
      "metadata": {
        "colab": {
          "base_uri": "https://localhost:8080/"
        },
        "id": "cCncxBDLdlUh",
        "outputId": "a7064557-83ea-4af3-c7b3-eb4eb8cd23a7"
      },
      "execution_count": null,
      "outputs": [
        {
          "output_type": "execute_result",
          "data": {
            "text/plain": [
              "9.0      40951\n",
              "240.0    13028\n",
              "14.0      3349\n",
              "7.0       3300\n",
              "250.0     2779\n",
              "241.0     1644\n",
              "28.0      1502\n",
              "Name: agent, dtype: int64"
            ]
          },
          "metadata": {},
          "execution_count": 37
        }
      ]
    },
    {
      "cell_type": "code",
      "source": [
        "from IPython.core.pylabtools import figsize\n",
        "plt.rcParams['figure.figsize'] = (16,8)\n",
        "agent.plot(kind='bar')\n",
        "plt.ylabel('Number of Bookings')\n",
        "plt.xlabel('Agent Id')\n",
        "plt.show()"
      ],
      "metadata": {
        "colab": {
          "base_uri": "https://localhost:8080/",
          "height": 515
        },
        "id": "mb-ZCJOCeSVn",
        "outputId": "4cc8c69c-5324-4f4f-93aa-12b44a213ebe"
      },
      "execution_count": null,
      "outputs": [
        {
          "output_type": "display_data",
          "data": {
            "text/plain": [
              "<Figure size 1152x576 with 1 Axes>"
            ],
            "image/png": "[encoded data removed]"
          },
          "metadata": {
            "needs_background": "light"
          }
        }
      ]
    },
    {
      "cell_type": "markdown",
      "source": [
        "## 6. **Most preferred meal by customer**"
      ],
      "metadata": {
        "id": "5WvP6qCOGR2m"
      }
    },
    {
      "cell_type": "code",
      "source": [
        "most_preferred_meal = (df['meal'].value_counts()/df['meal'].size)*100\n",
        "from IPython.core.pylabtools import figsize\n",
        "plt.rcParams['figure.figsize'] = (10,5)\n",
        "most_preferred_meal.plot(kind='bar')\n",
        "plt.ylabel('Number of Cancellation')\n",
        "plt.xlabel('Hotel Type')\n",
        "plt.show()"
      ],
      "metadata": {
        "colab": {
          "base_uri": "https://localhost:8080/",
          "height": 375
        },
        "id": "48_wLPCfGcGG",
        "outputId": "b6f3cab6-4e96-41df-ff88-d247edfd663d"
      },
      "execution_count": null,
      "outputs": [
        {
          "output_type": "display_data",
          "data": {
            "text/plain": [
              "<Figure size 720x360 with 1 Axes>"
            ],
            "image/png": "[encoded data removed]"
          },
          "metadata": {
            "needs_background": "light"
          }
        }
      ]
    },
    {
      "cell_type": "code",
      "source": [
        ""
      ],
      "metadata": {
        "colab": {
          "base_uri": "https://localhost:8080/"
        },
        "id": "yXWxDE_0IUDR",
        "outputId": "439b23d7-f537-40e3-826d-b8221e010392"
      },
      "execution_count": null,
      "outputs": [
        {
          "output_type": "execute_result",
          "data": {
            "text/plain": [
              "Index(['hotel', 'is_canceled', 'lead_time', 'arrival_date_year',\n",
              "       'arrival_date_month', 'arrival_date_week_number',\n",
              "       'arrival_date_day_of_month', 'stays_in_weekend_nights',\n",
              "       'stays_in_week_nights', 'adults', 'children', 'babies', 'meal',\n",
              "       'country', 'market_segment', 'distribution_channel',\n",
              "       'is_repeated_guest', 'previous_cancellations',\n",
              "       'previous_bookings_not_canceled', 'reserved_room_type',\n",
              "       'assigned_room_type', 'booking_changes', 'deposit_type', 'agent',\n",
              "       'company', 'days_in_waiting_list', 'customer_type', 'adr',\n",
              "       'required_car_parking_spaces', 'total_of_special_requests',\n",
              "       'reservation_status', 'reservation_status_date'],\n",
              "      dtype='object')"
            ]
          },
          "metadata": {},
          "execution_count": 335
        }
      ]
    },
    {
      "cell_type": "code",
      "source": [
        "df.dtypes"
      ],
      "metadata": {
        "id": "jGev5S0oObgl"
      },
      "execution_count": null,
      "outputs": []
    },
    {
      "cell_type": "markdown",
      "source": [
        "### 7. **The most preferred months by the customers**"
      ],
      "metadata": {
        "id": "JqDAaN2OTyoL"
      }
    },
    {
      "cell_type": "code",
      "source": [
        "months = df['arrival_date_month'].value_counts()"
      ],
      "metadata": {
        "id": "9FthJQDNKpYg"
      },
      "execution_count": null,
      "outputs": []
    },
    {
      "cell_type": "code",
      "source": [
        "plt.rcParams['figure.figsize'] = (10,5)\n",
        "months.plot(kind='bar')\n",
        "plt.ylabel('Number of Booking')\n",
        "plt.xlabel('Month')\n",
        "plt.show()"
      ],
      "metadata": {
        "colab": {
          "base_uri": "https://localhost:8080/",
          "height": 378
        },
        "id": "LS3ClQ3dUBtH",
        "outputId": "7b62fcd4-b7b5-40e6-ef1a-de930f959103"
      },
      "execution_count": null,
      "outputs": [
        {
          "output_type": "display_data",
          "data": {
            "text/plain": [
              "<Figure size 720x360 with 1 Axes>"
            ],
            "image/png": "[encoded data removed]"
          },
          "metadata": {
            "needs_background": "light"
          }
        }
      ]
    },
    {
      "cell_type": "markdown",
      "source": [
        "### 8. The most demanded room type by customer"
      ],
      "metadata": {
        "id": "Kzv_LS0BKqtL"
      }
    },
    {
      "cell_type": "code",
      "source": [
        "room_type = (df['assigned_room_type'].value_counts()/df['assigned_room_type'].size)*100"
      ],
      "metadata": {
        "id": "xCVaGVq4K6sO"
      },
      "execution_count": null,
      "outputs": []
    },
    {
      "cell_type": "code",
      "source": [
        "plt.rcParams['figure.figsize'] = (10,5)\n",
        "room_type.plot(kind='bar')\n",
        "plt.ylabel('Number of Booking')\n",
        "plt.xlabel('Hotel Type')\n",
        "plt.show()"
      ],
      "metadata": {
        "colab": {
          "base_uri": "https://localhost:8080/",
          "height": 331
        },
        "id": "364kdmDZLqOf",
        "outputId": "9e03403a-513e-490e-996c-8745a0523367"
      },
      "execution_count": null,
      "outputs": [
        {
          "output_type": "display_data",
          "data": {
            "text/plain": [
              "<Figure size 720x360 with 1 Axes>"
            ],
            "image/png": "[encoded data removed]"
          },
          "metadata": {
            "needs_background": "light"
          }
        }
      ]
    },
    {
      "cell_type": "markdown",
      "source": [
        "## **Bivariable Analysis**"
      ],
      "metadata": {
        "id": "Wrxty-2U-p-L"
      }
    },
    {
      "cell_type": "markdown",
      "source": [
        "### 1. Comparing the Cancellation Rate in different hotel type"
      ],
      "metadata": {
        "id": "5K0jFE1Usj7f"
      }
    },
    {
      "cell_type": "code",
      "source": [
        "cond = df[df['is_canceled']==1]\n",
        "stats =  (cond['hotel'].value_counts()/cond['hotel'].size)*100\n",
        "stats"
      ],
      "metadata": {
        "colab": {
          "base_uri": "https://localhost:8080/"
        },
        "id": "3MN_zeS2h904",
        "outputId": "6298402e-1963-465a-c997-4e11f5ec6c74"
      },
      "execution_count": null,
      "outputs": [
        {
          "output_type": "execute_result",
          "data": {
            "text/plain": [
              "City Hotel      66.801249\n",
              "Resort Hotel    33.198751\n",
              "Name: hotel, dtype: float64"
            ]
          },
          "metadata": {},
          "execution_count": 43
        }
      ]
    },
    {
      "cell_type": "code",
      "source": [
        "from IPython.core.pylabtools import figsize\n",
        "plt.rcParams['figure.figsize'] = (10,5)\n",
        "stats.plot(kind='bar')\n",
        "plt.ylabel('Number of Cancellation')\n",
        "plt.xlabel('Hotel Type')\n",
        "plt.show()"
      ],
      "metadata": {
        "colab": {
          "base_uri": "https://localhost:8080/",
          "height": 388
        },
        "id": "niDSvXfzsAXx",
        "outputId": "e3fae2e9-0673-455e-a8db-cc6f131b9f21"
      },
      "execution_count": null,
      "outputs": [
        {
          "output_type": "display_data",
          "data": {
            "text/plain": [
              "<Figure size 720x360 with 1 Axes>"
            ],
            "image/png": "[encoded data removed]"
          },
          "metadata": {
            "needs_background": "light"
          }
        }
      ]
    },
    {
      "cell_type": "markdown",
      "source": [
        "### 2. **Optimal months to visit in different years**"
      ],
      "metadata": {
        "id": "JQBDuB5myX9o"
      }
    },
    {
      "cell_type": "code",
      "source": [
        "best_time_2015 = df[df.arrival_date_year == 2015]['arrival_date_month'].value_counts()"
      ],
      "metadata": {
        "id": "Whg1QIMntOZh"
      },
      "execution_count": null,
      "outputs": []
    },
    {
      "cell_type": "code",
      "source": [
        "from IPython.core.pylabtools import figsize\n",
        "plt.rcParams['figure.figsize'] = (10,5)\n",
        "best_time_2015.plot()\n",
        "plt.ylabel('Number of Bookings')\n",
        "plt.xlabel('Months')\n",
        "plt.show()"
      ],
      "metadata": {
        "colab": {
          "base_uri": "https://localhost:8080/",
          "height": 334
        },
        "id": "SdOgdvJsyrnw",
        "outputId": "6ee0c82f-c819-4d04-b2c1-a7145a3532d5"
      },
      "execution_count": null,
      "outputs": [
        {
          "output_type": "display_data",
          "data": {
            "text/plain": [
              "<Figure size 720x360 with 1 Axes>"
            ],
            "image/png": "[encoded data removed]"
          },
          "metadata": {
            "needs_background": "light"
          }
        }
      ]
    },
    {
      "cell_type": "code",
      "source": [
        "best_time_2016 = df[df.arrival_date_year == 2016]['arrival_date_month'].value_counts()"
      ],
      "metadata": {
        "id": "fU4uvGv_yPJU"
      },
      "execution_count": null,
      "outputs": []
    },
    {
      "cell_type": "code",
      "source": [
        "from IPython.core.pylabtools import figsize\n",
        "plt.rcParams['figure.figsize'] = (10,5)\n",
        "best_time_2016.plot()\n",
        "plt.ylabel('Number of Bookings')\n",
        "plt.xlabel('Months')\n",
        "plt.show()"
      ],
      "metadata": {
        "colab": {
          "base_uri": "https://localhost:8080/",
          "height": 334
        },
        "id": "YNHEZmyWy3Qc",
        "outputId": "eea27937-ab57-4ff8-c10d-f958d0db347d"
      },
      "execution_count": null,
      "outputs": [
        {
          "output_type": "display_data",
          "data": {
            "text/plain": [
              "<Figure size 720x360 with 1 Axes>"
            ],
            "image/png": "[encoded data removed]"
          },
          "metadata": {
            "needs_background": "light"
          }
        }
      ]
    },
    {
      "cell_type": "code",
      "source": [
        "best_time_2017 = df[df.arrival_date_year == 2017]['arrival_date_month'].value_counts()"
      ],
      "metadata": {
        "id": "VNzBbPkLyPvo"
      },
      "execution_count": null,
      "outputs": []
    },
    {
      "cell_type": "code",
      "source": [
        "from IPython.core.pylabtools import figsize\n",
        "plt.rcParams['figure.figsize'] = (10,5)\n",
        "plt.plot(best_time_2017)\n",
        "\n",
        "plt.ylabel('Number of Bookings')\n",
        "plt.xlabel('Months')\n",
        "plt.show()"
      ],
      "metadata": {
        "colab": {
          "base_uri": "https://localhost:8080/",
          "height": 334
        },
        "id": "0_j6bp6Sy4Ec",
        "outputId": "2c2be2a0-5788-4e44-bc71-e50b91daa654"
      },
      "execution_count": null,
      "outputs": [
        {
          "output_type": "display_data",
          "data": {
            "text/plain": [
              "<Figure size 720x360 with 1 Axes>"
            ],
            "image/png": "[encoded data removed]"
          },
          "metadata": {
            "needs_background": "light"
          }
        }
      ]
    },
    {
      "cell_type": "code",
      "source": [
        "df.head()"
      ],
      "metadata": {
        "id": "8B2kk4L0yWNK"
      },
      "execution_count": null,
      "outputs": []
    },
    {
      "cell_type": "code",
      "source": [
        ""
      ],
      "metadata": {
        "id": "1rGwuK5K-F5R"
      },
      "execution_count": null,
      "outputs": []
    },
    {
      "cell_type": "markdown",
      "source": [
        "### 3. **Comparing the hotel based on mean lead time**"
      ],
      "metadata": {
        "id": "4ZAr9LXCBwPC"
      }
    },
    {
      "cell_type": "code",
      "source": [
        "lead_time = df.groupby('hotel')['lead_time'].mean()"
      ],
      "metadata": {
        "id": "EgpuV3pv-vSr"
      },
      "execution_count": null,
      "outputs": []
    },
    {
      "cell_type": "code",
      "source": [
        "from IPython.core.pylabtools import figsize\n",
        "plt.rcParams['figure.figsize'] = (10,5)\n",
        "lead_time.plot(kind='bar')\n",
        "\n",
        "plt.ylabel('Number of Bookings')\n",
        "plt.xlabel('Months')\n",
        "plt.show()"
      ],
      "metadata": {
        "colab": {
          "base_uri": "https://localhost:8080/",
          "height": 385
        },
        "id": "iQlni2ly-6nI",
        "outputId": "02e3deca-e467-4b40-9996-618afc65b386"
      },
      "execution_count": null,
      "outputs": [
        {
          "output_type": "display_data",
          "data": {
            "text/plain": [
              "<Figure size 720x360 with 1 Axes>"
            ],
            "image/png": "[encoded data removed]"
          },
          "metadata": {
            "needs_background": "light"
          }
        }
      ]
    },
    {
      "cell_type": "markdown",
      "source": [
        "Conclusion"
      ],
      "metadata": {
        "id": "-UsOEitBBZK3"
      }
    },
    {
      "cell_type": "markdown",
      "source": [
        "Customer who plans to go in Resort Hotel plans very early\n"
      ],
      "metadata": {
        "id": "u2vVan92BSX2"
      }
    },
    {
      "cell_type": "markdown",
      "source": [
        "### 4.Hotel with most revenue"
      ],
      "metadata": {
        "id": "fqkgLIeUB-87"
      }
    },
    {
      "cell_type": "code",
      "source": [
        "df.head()"
      ],
      "metadata": {
        "colab": {
          "base_uri": "https://localhost:8080/",
          "height": 386
        },
        "id": "4BTns8pGCLcJ",
        "outputId": "459d5e3a-2ada-4745-c2fd-2d695dc259f2"
      },
      "execution_count": null,
      "outputs": [
        {
          "output_type": "execute_result",
          "data": {
            "text/plain": [
              "          hotel  is_canceled  lead_time  arrival_date_year arrival_date_month  \\\n",
              "0  Resort Hotel            0        342               2015               July   \n",
              "1  Resort Hotel            0        737               2015               July   \n",
              "2  Resort Hotel            0          7               2015               July   \n",
              "3  Resort Hotel            0         13               2015               July   \n",
              "4  Resort Hotel            0         14               2015               July   \n",
              "\n",
              "   arrival_date_week_number  arrival_date_day_of_month  \\\n",
              "0                        27                          1   \n",
              "1                        27                          1   \n",
              "2                        27                          1   \n",
              "3                        27                          1   \n",
              "4                        27                          1   \n",
              "\n",
              "   stays_in_weekend_nights  stays_in_week_nights  adults  ...  deposit_type  \\\n",
              "0                        0                     0       2  ...    No Deposit   \n",
              "1                        0                     0       2  ...    No Deposit   \n",
              "2                        0                     1       1  ...    No Deposit   \n",
              "3                        0                     1       1  ...    No Deposit   \n",
              "4                        0                     2       2  ...    No Deposit   \n",
              "\n",
              "   agent company days_in_waiting_list customer_type   adr  \\\n",
              "0    9.0    40.0                    0     Transient   0.0   \n",
              "1    9.0    40.0                    0     Transient   0.0   \n",
              "2    9.0    40.0                    0     Transient  75.0   \n",
              "3  304.0    40.0                    0     Transient  75.0   \n",
              "4  240.0    40.0                    0     Transient  98.0   \n",
              "\n",
              "   required_car_parking_spaces  total_of_special_requests  reservation_status  \\\n",
              "0                            0                          0           Check-Out   \n",
              "1                            0                          0           Check-Out   \n",
              "2                            0                          0           Check-Out   \n",
              "3                            0                          0           Check-Out   \n",
              "4                            0                          1           Check-Out   \n",
              "\n",
              "  reservation_status_date  \n",
              "0              2015-07-01  \n",
              "1              2015-07-01  \n",
              "2              2015-07-02  \n",
              "3              2015-07-02  \n",
              "4              2015-07-03  \n",
              "\n",
              "[5 rows x 32 columns]"
            ],
            "text/html": [
              "\n",
              "  <div id=\"df-5c730c61-cc13-471e-8bc5-8c54af252741\">\n",
              "    <div class=\"colab-df-container\">\n",
              "      <div>\n",
              "<style scoped>\n",
              "    .dataframe tbody tr th:only-of-type {\n",
              "        vertical-align: middle;\n",
              "    }\n",
              "\n",
              "    .dataframe tbody tr th {\n",
              "        vertical-align: top;\n",
              "    }\n",
              "\n",
              "    .dataframe thead th {\n",
              "        text-align: right;\n",
              "    }\n",
              "</style>\n",
              "<table border=\"1\" class=\"dataframe\">\n",
              "  <thead>\n",
              "    <tr style=\"text-align: right;\">\n",
              "      <th></th>\n",
              "      <th>hotel</th>\n",
              "      <th>is_canceled</th>\n",
              "      <th>lead_time</th>\n",
              "      <th>arrival_date_year</th>\n",
              "      <th>arrival_date_month</th>\n",
              "      <th>arrival_date_week_number</th>\n",
              "      <th>arrival_date_day_of_month</th>\n",
              "      <th>stays_in_weekend_nights</th>\n",
              "      <th>stays_in_week_nights</th>\n",
              "      <th>adults</th>\n",
              "      <th>...</th>\n",
              "      <th>deposit_type</th>\n",
              "      <th>agent</th>\n",
              "      <th>company</th>\n",
              "      <th>days_in_waiting_list</th>\n",
              "      <th>customer_type</th>\n",
              "      <th>adr</th>\n",
              "      <th>required_car_parking_spaces</th>\n",
              "      <th>total_of_special_requests</th>\n",
              "      <th>reservation_status</th>\n",
              "      <th>reservation_status_date</th>\n",
              "    </tr>\n",
              "  </thead>\n",
              "  <tbody>\n",
              "    <tr>\n",
              "      <th>0</th>\n",
              "      <td>Resort Hotel</td>\n",
              "      <td>0</td>\n",
              "      <td>342</td>\n",
              "      <td>2015</td>\n",
              "      <td>July</td>\n",
              "      <td>27</td>\n",
              "      <td>1</td>\n",
              "      <td>0</td>\n",
              "      <td>0</td>\n",
              "      <td>2</td>\n",
              "      <td>...</td>\n",
              "      <td>No Deposit</td>\n",
              "      <td>9.0</td>\n",
              "      <td>40.0</td>\n",
              "      <td>0</td>\n",
              "      <td>Transient</td>\n",
              "      <td>0.0</td>\n",
              "      <td>0</td>\n",
              "      <td>0</td>\n",
              "      <td>Check-Out</td>\n",
              "      <td>2015-07-01</td>\n",
              "    </tr>\n",
              "    <tr>\n",
              "      <th>1</th>\n",
              "      <td>Resort Hotel</td>\n",
              "      <td>0</td>\n",
              "      <td>737</td>\n",
              "      <td>2015</td>\n",
              "      <td>July</td>\n",
              "      <td>27</td>\n",
              "      <td>1</td>\n",
              "      <td>0</td>\n",
              "      <td>0</td>\n",
              "      <td>2</td>\n",
              "      <td>...</td>\n",
              "      <td>No Deposit</td>\n",
              "      <td>9.0</td>\n",
              "      <td>40.0</td>\n",
              "      <td>0</td>\n",
              "      <td>Transient</td>\n",
              "      <td>0.0</td>\n",
              "      <td>0</td>\n",
              "      <td>0</td>\n",
              "      <td>Check-Out</td>\n",
              "      <td>2015-07-01</td>\n",
              "    </tr>\n",
              "    <tr>\n",
              "      <th>2</th>\n",
              "      <td>Resort Hotel</td>\n",
              "      <td>0</td>\n",
              "      <td>7</td>\n",
              "      <td>2015</td>\n",
              "      <td>July</td>\n",
              "      <td>27</td>\n",
              "      <td>1</td>\n",
              "      <td>0</td>\n",
              "      <td>1</td>\n",
              "      <td>1</td>\n",
              "      <td>...</td>\n",
              "      <td>No Deposit</td>\n",
              "      <td>9.0</td>\n",
              "      <td>40.0</td>\n",
              "      <td>0</td>\n",
              "      <td>Transient</td>\n",
              "      <td>75.0</td>\n",
              "      <td>0</td>\n",
              "      <td>0</td>\n",
              "      <td>Check-Out</td>\n",
              "      <td>2015-07-02</td>\n",
              "    </tr>\n",
              "    <tr>\n",
              "      <th>3</th>\n",
              "      <td>Resort Hotel</td>\n",
              "      <td>0</td>\n",
              "      <td>13</td>\n",
              "      <td>2015</td>\n",
              "      <td>July</td>\n",
              "      <td>27</td>\n",
              "      <td>1</td>\n",
              "      <td>0</td>\n",
              "      <td>1</td>\n",
              "      <td>1</td>\n",
              "      <td>...</td>\n",
              "      <td>No Deposit</td>\n",
              "      <td>304.0</td>\n",
              "      <td>40.0</td>\n",
              "      <td>0</td>\n",
              "      <td>Transient</td>\n",
              "      <td>75.0</td>\n",
              "      <td>0</td>\n",
              "      <td>0</td>\n",
              "      <td>Check-Out</td>\n",
              "      <td>2015-07-02</td>\n",
              "    </tr>\n",
              "    <tr>\n",
              "      <th>4</th>\n",
              "      <td>Resort Hotel</td>\n",
              "      <td>0</td>\n",
              "      <td>14</td>\n",
              "      <td>2015</td>\n",
              "      <td>July</td>\n",
              "      <td>27</td>\n",
              "      <td>1</td>\n",
              "      <td>0</td>\n",
              "      <td>2</td>\n",
              "      <td>2</td>\n",
              "      <td>...</td>\n",
              "      <td>No Deposit</td>\n",
              "      <td>240.0</td>\n",
              "      <td>40.0</td>\n",
              "      <td>0</td>\n",
              "      <td>Transient</td>\n",
              "      <td>98.0</td>\n",
              "      <td>0</td>\n",
              "      <td>1</td>\n",
              "      <td>Check-Out</td>\n",
              "      <td>2015-07-03</td>\n",
              "    </tr>\n",
              "  </tbody>\n",
              "</table>\n",
              "<p>5 rows × 32 columns</p>\n",
              "</div>\n",
              "      <button class=\"colab-df-convert\" onclick=\"convertToInteractive('df-5c730c61-cc13-471e-8bc5-8c54af252741')\"\n",
              "              title=\"Convert this dataframe to an interactive table.\"\n",
              "              style=\"display:none;\">\n",
              "        \n",
              "  <svg xmlns=\"http://www.w3.org/2000/svg\" height=\"24px\"viewBox=\"0 0 24 24\"\n",
              "       width=\"24px\">\n",
              "    <path d=\"M0 0h24v24H0V0z\" fill=\"none\"/>\n",
              "    <path d=\"M18.56 5.44l.94 2.06.94-2.06 2.06-.94-2.06-.94-.94-2.06-.94 2.06-2.06.94zm-11 1L8.5 8.5l.94-2.06 2.06-.94-2.06-.94L8.5 2.5l-.94 2.06-2.06.94zm10 10l.94 2.06.94-2.06 2.06-.94-2.06-.94-.94-2.06-.94 2.06-2.06.94z\"/><path d=\"M17.41 7.96l-1.37-1.37c-.4-.4-.92-.59-1.43-.59-.52 0-1.04.2-1.43.59L10.3 9.45l-7.72 7.72c-.78.78-.78 2.05 0 2.83L4 21.41c.39.39.9.59 1.41.59.51 0 1.02-.2 1.41-.59l7.78-7.78 2.81-2.81c.8-.78.8-2.07 0-2.86zM5.41 20L4 18.59l7.72-7.72 1.47 1.35L5.41 20z\"/>\n",
              "  </svg>\n",
              "      </button>\n",
              "      \n",
              "  <style>\n",
              "    .colab-df-container {\n",
              "      display:flex;\n",
              "      flex-wrap:wrap;\n",
              "      gap: 12px;\n",
              "    }\n",
              "\n",
              "    .colab-df-convert {\n",
              "      background-color: #E8F0FE;\n",
              "      border: none;\n",
              "      border-radius: 50%;\n",
              "      cursor: pointer;\n",
              "      display: none;\n",
              "      fill: #1967D2;\n",
              "      height: 32px;\n",
              "      padding: 0 0 0 0;\n",
              "      width: 32px;\n",
              "    }\n",
              "\n",
              "    .colab-df-convert:hover {\n",
              "      background-color: #E2EBFA;\n",
              "      box-shadow: 0px 1px 2px rgba(60, 64, 67, 0.3), 0px 1px 3px 1px rgba(60, 64, 67, 0.15);\n",
              "      fill: #174EA6;\n",
              "    }\n",
              "\n",
              "    [theme=dark] .colab-df-convert {\n",
              "      background-color: #3B4455;\n",
              "      fill: #D2E3FC;\n",
              "    }\n",
              "\n",
              "    [theme=dark] .colab-df-convert:hover {\n",
              "      background-color: #434B5C;\n",
              "      box-shadow: 0px 1px 3px 1px rgba(0, 0, 0, 0.15);\n",
              "      filter: drop-shadow(0px 1px 2px rgba(0, 0, 0, 0.3));\n",
              "      fill: #FFFFFF;\n",
              "    }\n",
              "  </style>\n",
              "\n",
              "      <script>\n",
              "        const buttonEl =\n",
              "          document.querySelector('#df-5c730c61-cc13-471e-8bc5-8c54af252741 button.colab-df-convert');\n",
              "        buttonEl.style.display =\n",
              "          google.colab.kernel.accessAllowed ? 'block' : 'none';\n",
              "\n",
              "        async function convertToInteractive(key) {\n",
              "          const element = document.querySelector('#df-5c730c61-cc13-471e-8bc5-8c54af252741');\n",
              "          const dataTable =\n",
              "            await google.colab.kernel.invokeFunction('convertToInteractive',\n",
              "                                                     [key], {});\n",
              "          if (!dataTable) return;\n",
              "\n",
              "          const docLinkHtml = 'Like what you see? Visit the ' +\n",
              "            '<a target=\"_blank\" href=https://colab.research.google.com/notebooks/data_table.ipynb>data table notebook</a>'\n",
              "            + ' to learn more about interactive tables.';\n",
              "          element.innerHTML = '';\n",
              "          dataTable['output_type'] = 'display_data';\n",
              "          await google.colab.output.renderOutput(dataTable, element);\n",
              "          const docLink = document.createElement('div');\n",
              "          docLink.innerHTML = docLinkHtml;\n",
              "          element.appendChild(docLink);\n",
              "        }\n",
              "      </script>\n",
              "    </div>\n",
              "  </div>\n",
              "  "
            ]
          },
          "metadata": {},
          "execution_count": 305
        }
      ]
    },
    {
      "cell_type": "code",
      "source": [
        "Average_daily_rate = df.groupby('hotel')['adr'].mean()"
      ],
      "metadata": {
        "id": "HRQCbVlnCSV2"
      },
      "execution_count": null,
      "outputs": []
    },
    {
      "cell_type": "code",
      "source": [
        "from IPython.core.pylabtools import figsize\n",
        "plt.rcParams['figure.figsize'] = (10,5)\n",
        "Average_daily_rate.plot(kind='bar')\n",
        "\n",
        "plt.ylabel('Average Daily Rate')\n",
        "plt.xlabel('Hotel')\n",
        "plt.show()"
      ],
      "metadata": {
        "colab": {
          "base_uri": "https://localhost:8080/",
          "height": 385
        },
        "id": "RWaQIv01DflB",
        "outputId": "1f8339c3-1ce8-499d-8745-d3a9065a61da"
      },
      "execution_count": null,
      "outputs": [
        {
          "output_type": "display_data",
          "data": {
            "text/plain": [
              "<Figure size 720x360 with 1 Axes>"
            ],
            "image/png": "[encoded data removed]"
          },
          "metadata": {
            "needs_background": "light"
          }
        }
      ]
    },
    {
      "cell_type": "markdown",
      "source": [
        "## 5. **Comparing hotel with its average waiting days**"
      ],
      "metadata": {
        "id": "_7L9UIEPEwfg"
      }
    },
    {
      "cell_type": "code",
      "source": [
        "waiting_days = df.groupby('hotel')['days_in_waiting_list'].mean()"
      ],
      "metadata": {
        "id": "71QDIF1ZEokC"
      },
      "execution_count": null,
      "outputs": []
    },
    {
      "cell_type": "code",
      "source": [
        "from IPython.core.pylabtools import figsize\n",
        "plt.rcParams['figure.figsize'] = (10,5)\n",
        "waiting_days.plot(kind='bar')\n",
        "\n",
        "plt.ylabel('No. of days')\n",
        "plt.xlabel('Hotel')\n",
        "plt.show()"
      ],
      "metadata": {
        "colab": {
          "base_uri": "https://localhost:8080/",
          "height": 385
        },
        "id": "UI7dVUvmFcm1",
        "outputId": "874e73ad-c465-4b6c-dc8c-50e2900e426f"
      },
      "execution_count": null,
      "outputs": [
        {
          "output_type": "display_data",
          "data": {
            "text/plain": [
              "<Figure size 720x360 with 1 Axes>"
            ],
            "image/png": "[encoded data removed]"
          },
          "metadata": {
            "needs_background": "light"
          }
        }
      ]
    },
    {
      "cell_type": "code",
      "source": [
        ""
      ],
      "metadata": {
        "id": "EW8RfopuX9vI"
      },
      "execution_count": null,
      "outputs": []
    },
    {
      "cell_type": "markdown",
      "source": [
        "### 6. **Comparing Customer Type with its average waiting days**"
      ],
      "metadata": {
        "id": "o7J_NdwRYAL7"
      }
    },
    {
      "cell_type": "code",
      "source": [
        "waiting_days1 = df.groupby('customer_type')['days_in_waiting_list'].mean()"
      ],
      "metadata": {
        "id": "P3LfYNMIYIm4"
      },
      "execution_count": null,
      "outputs": []
    },
    {
      "cell_type": "code",
      "source": [
        "plt.rcParams['figure.figsize'] = (10,5)\n",
        "waiting_days1.plot(kind='bar')\n",
        "\n",
        "plt.ylabel('No. of days')\n",
        "plt.xlabel('Customer Type')\n",
        "plt.show()"
      ],
      "metadata": {
        "colab": {
          "base_uri": "https://localhost:8080/",
          "height": 398
        },
        "id": "DUKfu91sYMe6",
        "outputId": "2b7de530-f0b2-4e0a-f19a-3d5326598a37"
      },
      "execution_count": null,
      "outputs": [
        {
          "output_type": "display_data",
          "data": {
            "text/plain": [
              "<Figure size 720x360 with 1 Axes>"
            ],
            "image/png": "[encoded data removed]"
          },
          "metadata": {
            "needs_background": "light"
          }
        }
      ]
    },
    {
      "cell_type": "markdown",
      "source": [
        "### 7. Comparing Average Daily rate based on Customer Type"
      ],
      "metadata": {
        "id": "5wl0VwHiKPNV"
      }
    },
    {
      "cell_type": "code",
      "source": [
        "customer = df.groupby('customer_type')['adr'].mean()"
      ],
      "metadata": {
        "id": "FHP4tr3cFrjY"
      },
      "execution_count": null,
      "outputs": []
    },
    {
      "cell_type": "code",
      "source": [
        "plt.rcParams['figure.figsize'] = (12,6)\n",
        "customer.plot(kind = 'bar')\n",
        "plt.ylabel('Mean avg daily rate')\n",
        "plt.xlabel('Customer Type')\n",
        "plt.show()"
      ],
      "metadata": {
        "colab": {
          "base_uri": "https://localhost:8080/",
          "height": 453
        },
        "id": "okFe-mD6JAnt",
        "outputId": "57764328-c2a2-4714-a30f-a355e2921c02"
      },
      "execution_count": null,
      "outputs": [
        {
          "output_type": "display_data",
          "data": {
            "text/plain": [
              "<Figure size 864x432 with 1 Axes>"
            ],
            "image/png": "[encoded data removed]"
          },
          "metadata": {
            "needs_background": "light"
          }
        }
      ]
    },
    {
      "cell_type": "markdown",
      "source": [
        "### 8. **Comparing adr in different month**"
      ],
      "metadata": {
        "id": "mCk2MY9IVOCn"
      }
    },
    {
      "cell_type": "code",
      "source": [
        "mon = df.groupby('arrival_date_month')['adr'].mean()"
      ],
      "metadata": {
        "id": "BiKguZplU5u2"
      },
      "execution_count": null,
      "outputs": []
    },
    {
      "cell_type": "code",
      "source": [
        "plt.rcParams['figure.figsize'] = (12,6)\n",
        "mon.plot(kind = 'bar')\n",
        "plt.ylabel('Mean avg daily rate')\n",
        "plt.xlabel('Customer Type')\n",
        "plt.show()"
      ],
      "metadata": {
        "colab": {
          "base_uri": "https://localhost:8080/",
          "height": 433
        },
        "id": "i4JXh30jVIj3",
        "outputId": "837eb4cc-87b1-4a06-d342-c498c1dd0312"
      },
      "execution_count": null,
      "outputs": [
        {
          "output_type": "display_data",
          "data": {
            "text/plain": [
              "<Figure size 864x432 with 1 Axes>"
            ],
            "image/png": "[encoded data removed]"
          },
          "metadata": {
            "needs_background": "light"
          }
        }
      ]
    },
    {
      "cell_type": "markdown",
      "source": [
        "### 9. **The Hotel with most number of Special Request**"
      ],
      "metadata": {
        "id": "Si8Bk6fyV9Fa"
      }
    },
    {
      "cell_type": "code",
      "source": [
        "req = df.groupby('hotel')['total_of_special_requests'].mean()"
      ],
      "metadata": {
        "id": "-Xs6GFJ6Vln_"
      },
      "execution_count": null,
      "outputs": []
    },
    {
      "cell_type": "code",
      "source": [
        "plt.rcParams['figure.figsize'] = (12,6)\n",
        "req.plot(kind = 'bar')\n",
        "plt.ylabel('mean')\n",
        "plt.xlabel('Hotel')\n",
        "plt.show()"
      ],
      "metadata": {
        "colab": {
          "base_uri": "https://localhost:8080/",
          "height": 439
        },
        "id": "YtUtJx0rV4Vu",
        "outputId": "021b5b38-d1b9-464b-c527-6e2eeebf2252"
      },
      "execution_count": null,
      "outputs": [
        {
          "output_type": "display_data",
          "data": {
            "text/plain": [
              "<Figure size 864x432 with 1 Axes>"
            ],
            "image/png": "[encoded data removed]"
          },
          "metadata": {
            "needs_background": "light"
          }
        }
      ]
    },
    {
      "cell_type": "markdown",
      "source": [
        "### 10. The Customer Type with the most number of special Request"
      ],
      "metadata": {
        "id": "ptUZqS5dWYgY"
      }
    },
    {
      "cell_type": "code",
      "source": [
        "df['total_of_special_requests'].unique()"
      ],
      "metadata": {
        "colab": {
          "base_uri": "https://localhost:8080/"
        },
        "id": "excZo6cgNMPk",
        "outputId": "a893ee88-cb70-4c5e-c39b-46a57a27e3a4"
      },
      "execution_count": null,
      "outputs": [
        {
          "output_type": "execute_result",
          "data": {
            "text/plain": [
              "array([0, 1, 3, 2, 4, 5])"
            ]
          },
          "metadata": {},
          "execution_count": 59
        }
      ]
    },
    {
      "cell_type": "code",
      "source": [
        "req1 = df.groupby('customer_type')['total_of_special_requests'].mean()"
      ],
      "metadata": {
        "id": "RdwBYX7IWNB6"
      },
      "execution_count": null,
      "outputs": []
    },
    {
      "cell_type": "code",
      "source": [
        "plt.rcParams['figure.figsize'] = (12,6)\n",
        "req1.plot(kind = 'bar')\n",
        "plt.ylabel('mean')\n",
        "plt.xlabel('Customer Type')\n",
        "plt.show()"
      ],
      "metadata": {
        "colab": {
          "base_uri": "https://localhost:8080/",
          "height": 453
        },
        "id": "H-8d6lrVWTbA",
        "outputId": "cf89c084-35f4-4cfb-f60b-12c798f41c01"
      },
      "execution_count": null,
      "outputs": [
        {
          "output_type": "display_data",
          "data": {
            "text/plain": [
              "<Figure size 864x432 with 1 Axes>"
            ],
            "image/png": "[encoded data removed]"
          },
          "metadata": {
            "needs_background": "light"
          }
        }
      ]
    },
    {
      "cell_type": "markdown",
      "source": [
        "### 11. The Market Segment with highest special request"
      ],
      "metadata": {
        "id": "CLmPt6C1ezvM"
      }
    },
    {
      "cell_type": "code",
      "source": [
        "request_channels = df.groupby(['market_segment'])['total_of_special_requests'].count()\n",
        "plt.rcParams['figure.figsize'] = (12,6)\n",
        "request_channels.plot(kind = 'bar')\n",
        "plt.ylabel('mean')\n",
        "plt.xlabel('Market Segment')\n",
        "plt.show()"
      ],
      "metadata": {
        "colab": {
          "base_uri": "https://localhost:8080/",
          "height": 458
        },
        "id": "G6iC444XcBgL",
        "outputId": "f51aa1d1-7d3b-4ef9-90a3-366d866a4055"
      },
      "execution_count": null,
      "outputs": [
        {
          "output_type": "display_data",
          "data": {
            "text/plain": [
              "<Figure size 864x432 with 1 Axes>"
            ],
            "image/png": "[encoded data removed]"
          },
          "metadata": {
            "needs_background": "light"
          }
        }
      ]
    },
    {
      "cell_type": "markdown",
      "source": [
        "### 12. **The month with highest lead time**"
      ],
      "metadata": {
        "id": "J8Rtcx1TZy6T"
      }
    },
    {
      "cell_type": "code",
      "source": [
        "lead = df.groupby(['arrival_date_month'])['lead_time'].mean()"
      ],
      "metadata": {
        "id": "fq4gKB-4ZKNz"
      },
      "execution_count": null,
      "outputs": []
    },
    {
      "cell_type": "code",
      "source": [
        "plt.rcParams['figure.figsize'] = (12,6)\n",
        "lead.plot(kind = 'bar')\n",
        "plt.ylabel('No. of days')\n",
        "plt.xlabel('Months')\n",
        "plt.show()"
      ],
      "metadata": {
        "colab": {
          "base_uri": "https://localhost:8080/",
          "height": 433
        },
        "id": "g9RRM5JgZpLn",
        "outputId": "2cc0b064-0cbc-4953-b477-43ed6661ced2"
      },
      "execution_count": null,
      "outputs": [
        {
          "output_type": "display_data",
          "data": {
            "text/plain": [
              "<Figure size 864x432 with 1 Axes>"
            ],
            "image/png": "[encoded data removed]"
          },
          "metadata": {
            "needs_background": "light"
          }
        }
      ]
    },
    {
      "cell_type": "markdown",
      "source": [
        "## 13.The market segment with highest lead time"
      ],
      "metadata": {
        "id": "Kg-KLx-Ba9sD"
      }
    },
    {
      "cell_type": "code",
      "source": [
        "lead1 = df.groupby(['distribution_channel'])['lead_time'].mean()"
      ],
      "metadata": {
        "id": "TeNGt3rkaVfH"
      },
      "execution_count": null,
      "outputs": []
    },
    {
      "cell_type": "code",
      "source": [
        "plt.rcParams['figure.figsize'] = (12,6)\n",
        "lead1.plot(kind = 'bar')\n",
        "plt.ylabel('No. of days')\n",
        "plt.xlabel('Distribution Channel')\n",
        "plt.show()"
      ],
      "metadata": {
        "colab": {
          "base_uri": "https://localhost:8080/",
          "height": 430
        },
        "id": "2ilMsMpaab2W",
        "outputId": "70492e7b-e278-4905-9ffe-37a0ef16eba7"
      },
      "execution_count": null,
      "outputs": [
        {
          "output_type": "display_data",
          "data": {
            "text/plain": [
              "<Figure size 864x432 with 1 Axes>"
            ],
            "image/png": "[encoded data removed]"
          },
          "metadata": {
            "needs_background": "light"
          }
        }
      ]
    },
    {
      "cell_type": "markdown",
      "source": [
        "### 14.**The Customer type with highest lead time**"
      ],
      "metadata": {
        "id": "MPOvpQPUb3SQ"
      }
    },
    {
      "cell_type": "code",
      "source": [
        "lead2 = df.groupby(['customer_type'])['lead_time'].mean()"
      ],
      "metadata": {
        "id": "ZB_OHUfObf2a"
      },
      "execution_count": null,
      "outputs": []
    },
    {
      "cell_type": "code",
      "source": [
        "plt.rcParams['figure.figsize'] = (12,6)\n",
        "lead2.plot(kind = 'bar')\n",
        "plt.ylabel('No. of days')\n",
        "plt.xlabel('Customer type')\n",
        "plt.show()"
      ],
      "metadata": {
        "colab": {
          "base_uri": "https://localhost:8080/",
          "height": 453
        },
        "id": "x_8SsXzCbjcn",
        "outputId": "af17e781-b175-4549-eadb-a1c5e987315e"
      },
      "execution_count": null,
      "outputs": [
        {
          "output_type": "display_data",
          "data": {
            "text/plain": [
              "<Figure size 864x432 with 1 Axes>"
            ],
            "image/png": "[encoded data removed]"
          },
          "metadata": {
            "needs_background": "light"
          }
        }
      ]
    },
    {
      "cell_type": "code",
      "source": [
        ""
      ],
      "metadata": {
        "id": "l8VCMQ2WgjwR"
      },
      "execution_count": null,
      "outputs": []
    },
    {
      "cell_type": "markdown",
      "source": [
        "### 15. Factor affecting Cancellation rate "
      ],
      "metadata": {
        "id": "TmEKc3bZgkyQ"
      }
    },
    {
      "cell_type": "markdown",
      "source": [
        "a) Waiting time(days)"
      ],
      "metadata": {
        "id": "TUYXAG1BsthV"
      }
    },
    {
      "cell_type": "code",
      "source": [
        "waiting_list= df[df['days_in_waiting_list'] !=0]  # Selecting bookings with non zero waiting time\n",
        "\n",
        "\n",
        "#fig, axes = plt.subplots(1, 2, figsize=(18, 8))\n",
        "#sns.kdeplot(ax=axes[0],x = 'days_in_waiting_list', hue = 'is_canceled' , data = waiting_bookings)\n",
        "#sns.kdeplot(ax = axes[1], x = df['lead_time'], hue = df['is_canceled'])\n",
        "#plt.show()"
      ],
      "metadata": {
        "id": "O6cebYEomoel"
      },
      "execution_count": null,
      "outputs": []
    },
    {
      "cell_type": "code",
      "source": [
        "waiting_list.shape"
      ],
      "metadata": {
        "colab": {
          "base_uri": "https://localhost:8080/"
        },
        "id": "EFE0uHRGnmMU",
        "outputId": "15d36d99-c99f-431f-8f96-910dc8a9e77a"
      },
      "execution_count": null,
      "outputs": [
        {
          "output_type": "execute_result",
          "data": {
            "text/plain": [
              "(860, 33)"
            ]
          },
          "metadata": {},
          "execution_count": 117
        }
      ]
    },
    {
      "cell_type": "code",
      "source": [
        "cancellation = (waiting_list.groupby('is_canceled')['days_in_waiting_list'].count()/ waiting_list['days_in_waiting_list'].size)*100\n",
        "cancellation\n"
      ],
      "metadata": {
        "colab": {
          "base_uri": "https://localhost:8080/"
        },
        "id": "4flhFr17g_Np",
        "outputId": "613cadd7-0c3b-4c90-b3f4-ee2f487f099d"
      },
      "execution_count": null,
      "outputs": [
        {
          "output_type": "execute_result",
          "data": {
            "text/plain": [
              "is_canceled\n",
              "0    65.813953\n",
              "1    34.186047\n",
              "Name: days_in_waiting_list, dtype: float64"
            ]
          },
          "metadata": {},
          "execution_count": 122
        }
      ]
    },
    {
      "cell_type": "code",
      "source": [
        "plt.rcParams['figure.figsize'] = (12,6)\n",
        "cancellation.plot(kind = 'bar')\n",
        "plt.ylabel('mean waiting time')\n",
        "plt.xlabel('is_canceled')\n",
        "plt.show()"
      ],
      "metadata": {
        "colab": {
          "base_uri": "https://localhost:8080/",
          "height": 385
        },
        "id": "XDxn8XNtic_C",
        "outputId": "7657c2ce-fd3f-4b0c-bcca-fe81c33f5632"
      },
      "execution_count": null,
      "outputs": [
        {
          "output_type": "display_data",
          "data": {
            "text/plain": [
              "<Figure size 864x432 with 1 Axes>"
            ],
            "image/png": "[encoded data removed]"
          },
          "metadata": {
            "needs_background": "light"
          }
        }
      ]
    },
    {
      "cell_type": "markdown",
      "source": [
        "b) Lead Time"
      ],
      "metadata": {
        "id": "fagSc4tms0yZ"
      }
    },
    {
      "cell_type": "code",
      "source": [
        "cancellation1 = (df.groupby('is_canceled')['lead_time'].count()/df['lead_time'].size)*100\n",
        "cancellation1"
      ],
      "metadata": {
        "colab": {
          "base_uri": "https://localhost:8080/"
        },
        "id": "L3wDCWAer1vZ",
        "outputId": "92d032e9-4f06-48ef-9d68-cb1acd44d25b"
      },
      "execution_count": null,
      "outputs": [
        {
          "output_type": "execute_result",
          "data": {
            "text/plain": [
              "is_canceled\n",
              "0    72.509869\n",
              "1    27.490131\n",
              "Name: lead_time, dtype: float64"
            ]
          },
          "metadata": {},
          "execution_count": 114
        }
      ]
    },
    {
      "cell_type": "code",
      "source": [
        "plt.rcParams['figure.figsize'] = (12,6)\n",
        "cancellation1.plot(kind = 'bar')\n",
        "plt.ylabel('mean lead time')\n",
        "plt.xlabel('is_canceled')\n",
        "plt.show()"
      ],
      "metadata": {
        "colab": {
          "base_uri": "https://localhost:8080/",
          "height": 385
        },
        "id": "0BStg54sr6Uw",
        "outputId": "ef3069f5-d1a8-411d-fba1-626314a3d3e5"
      },
      "execution_count": null,
      "outputs": [
        {
          "output_type": "display_data",
          "data": {
            "text/plain": [
              "<Figure size 864x432 with 1 Axes>"
            ],
            "image/png": "[encoded data removed]"
          },
          "metadata": {
            "needs_background": "light"
          }
        }
      ]
    },
    {
      "cell_type": "code",
      "source": [
        ""
      ],
      "metadata": {
        "id": "y-zTjmaFs7ir"
      },
      "execution_count": null,
      "outputs": []
    },
    {
      "cell_type": "markdown",
      "source": [
        "### **c) Distribution Channel with highest cancellation**"
      ],
      "metadata": {
        "id": "I0ViIz3qtnBZ"
      }
    },
    {
      "cell_type": "code",
      "source": [
        "cond = df[df['is_canceled']==1]\n",
        "channel =  (cond['distribution_channel'].value_counts()/cond['distribution_channel'].size)*100\n",
        "channel"
      ],
      "metadata": {
        "colab": {
          "base_uri": "https://localhost:8080/"
        },
        "id": "YkeJqvQ6tvw0",
        "outputId": "563b8768-858e-4929-9e56-c618d716837d"
      },
      "execution_count": null,
      "outputs": [
        {
          "output_type": "execute_result",
          "data": {
            "text/plain": [
              "TA/TO        89.123829\n",
              "Direct        8.012487\n",
              "Corporate     2.697190\n",
              "GDS           0.149844\n",
              "Undefined     0.016649\n",
              "Name: distribution_channel, dtype: float64"
            ]
          },
          "metadata": {},
          "execution_count": 93
        }
      ]
    },
    {
      "cell_type": "code",
      "source": [
        "plt.rcParams['figure.figsize'] = (12,6)\n",
        "channel.plot(kind = 'bar')\n",
        "plt.ylabel('No. of Cancellation')\n",
        "plt.xlabel('Distribution Channel')\n",
        "plt.show()"
      ],
      "metadata": {
        "colab": {
          "base_uri": "https://localhost:8080/",
          "height": 430
        },
        "id": "QUe5mv_BuWUr",
        "outputId": "adf1555f-8a3c-4859-ba76-b5439eaa8902"
      },
      "execution_count": null,
      "outputs": [
        {
          "output_type": "display_data",
          "data": {
            "text/plain": [
              "<Figure size 864x432 with 1 Axes>"
            ],
            "image/png": "[encoded data removed]"
          },
          "metadata": {
            "needs_background": "light"
          }
        }
      ]
    },
    {
      "cell_type": "code",
      "source": [
        ""
      ],
      "metadata": {
        "id": "NIFHTsENsFtx"
      },
      "execution_count": null,
      "outputs": []
    },
    {
      "cell_type": "markdown",
      "source": [
        "### d)**whether not getting allotted the same room type as demanded is the cause of cancellation fo bookings**"
      ],
      "metadata": {
        "id": "ql1GkD_rsGUC"
      }
    },
    {
      "cell_type": "code",
      "source": [
        "def room(x):\n",
        "  if x['assigned_room_type'] != x['reserved_room_type']:\n",
        "    return 1\n",
        "  else:\n",
        "    return 0\n"
      ],
      "metadata": {
        "id": "WBuP8PQlsQJm"
      },
      "execution_count": null,
      "outputs": []
    },
    {
      "cell_type": "code",
      "source": [
        "df['allotted_same_room'] = df.apply(lambda x : room(x) ,axis=1)"
      ],
      "metadata": {
        "id": "HCHsgEmassKP"
      },
      "execution_count": null,
      "outputs": []
    },
    {
      "cell_type": "code",
      "source": [
        "x = (df['allotted_same_room'].value_counts()/df['allotted_same_room'].size)*100\n",
        "x"
      ],
      "metadata": {
        "id": "uYQSaNNqxenk"
      },
      "execution_count": null,
      "outputs": []
    },
    {
      "cell_type": "code",
      "source": [
        "room = (df.groupby('allotted_same_room')['is_canceled'].sum()/df['allotted_same_room'].size)*100\n",
        "room\n"
      ],
      "metadata": {
        "colab": {
          "base_uri": "https://localhost:8080/"
        },
        "id": "5ccElAf6ttMl",
        "outputId": "a4a07cf1-e8de-4974-9f92-30ed6b505df4"
      },
      "execution_count": null,
      "outputs": [
        {
          "output_type": "execute_result",
          "data": {
            "text/plain": [
              "allotted_same_room\n",
              "0    26.784141\n",
              "1     0.705990\n",
              "Name: is_canceled, dtype: float64"
            ]
          },
          "metadata": {},
          "execution_count": 180
        }
      ]
    },
    {
      "cell_type": "code",
      "source": [
        "plt.rcParams['figure.figsize'] = (12,6)\n",
        "room.plot(kind = 'bar')\n",
        "plt.ylabel('Percentage')\n",
        "plt.xlabel('is_canceled')\n",
        "plt.show()"
      ],
      "metadata": {
        "colab": {
          "base_uri": "https://localhost:8080/",
          "height": 385
        },
        "id": "XX035vkp2sSG",
        "outputId": "772060d6-3ac4-4556-af67-9c90f67c8b29"
      },
      "execution_count": null,
      "outputs": [
        {
          "output_type": "display_data",
          "data": {
            "text/plain": [
              "<Figure size 864x432 with 1 Axes>"
            ],
            "image/png": "[encoded data removed]"
          },
          "metadata": {
            "needs_background": "light"
          }
        }
      ]
    },
    {
      "cell_type": "code",
      "source": [
        ""
      ],
      "metadata": {
        "id": "NqeyvOIuyFeG"
      },
      "execution_count": null,
      "outputs": []
    },
    {
      "cell_type": "markdown",
      "source": [
        "1.when the best time of year to book a hotel room is?\n",
        "\n",
        "2.the optimal length of stay in order to get the best daily rate?\n",
        "\n",
        "3.What if you wanted to predict whether or not a hotel was likely to receive a disproportionately high number of special requests?\n",
        "\n",
        "4.factors that govern the bookings."
      ],
      "metadata": {
        "id": "6BSdK-Eg2y_C"
      }
    },
    {
      "cell_type": "markdown",
      "source": [
        "### 16. **Factor Governing Booking**"
      ],
      "metadata": {
        "id": "8c8r1WVp38GE"
      }
    },
    {
      "cell_type": "markdown",
      "source": [
        "a) Deposit type"
      ],
      "metadata": {
        "id": "OHJFNNyG48j-"
      }
    },
    {
      "cell_type": "code",
      "source": [
        "factor = df.groupby(['deposit_type'])['adr'].mean()"
      ],
      "metadata": {
        "id": "uloWFo--3jKJ"
      },
      "execution_count": null,
      "outputs": []
    },
    {
      "cell_type": "code",
      "source": [
        "plt.rcParams['figure.figsize'] = (12,6)\n",
        "factor.plot(kind = 'bar')\n",
        "plt.ylabel('No. of Cancellation')\n",
        "plt.xlabel('Distribution Channel')\n",
        "plt.show()"
      ],
      "metadata": {
        "colab": {
          "base_uri": "https://localhost:8080/",
          "height": 436
        },
        "id": "JYImsOhE-xG4",
        "outputId": "a21f0188-ced2-4287-b944-6956a4754635"
      },
      "execution_count": null,
      "outputs": [
        {
          "output_type": "display_data",
          "data": {
            "text/plain": [
              "<Figure size 864x432 with 1 Axes>"
            ],
            "image/png": "[encoded data removed]"
          },
          "metadata": {
            "needs_background": "light"
          }
        }
      ]
    },
    {
      "cell_type": "markdown",
      "source": [
        "b) Room Type Assigned"
      ],
      "metadata": {
        "id": "9JHH9spwBB3W"
      }
    },
    {
      "cell_type": "code",
      "source": [
        "factor1 = df.groupby(['assigned_room_type'])['adr'].mean()"
      ],
      "metadata": {
        "id": "UR9L4b4PAJSh"
      },
      "execution_count": null,
      "outputs": []
    },
    {
      "cell_type": "code",
      "source": [
        "plt.rcParams['figure.figsize'] = (12,6)\n",
        "factor1.plot(kind = 'bar')\n",
        "plt.ylabel('No. of Cancellation')\n",
        "plt.xlabel('Distribution Channel')\n",
        "plt.show()"
      ],
      "metadata": {
        "colab": {
          "base_uri": "https://localhost:8080/",
          "height": 386
        },
        "id": "oE_3ua2aAfCz",
        "outputId": "3c6cc5f6-3629-458d-e772-cbd63a1192ab"
      },
      "execution_count": null,
      "outputs": [
        {
          "output_type": "display_data",
          "data": {
            "text/plain": [
              "<Figure size 864x432 with 1 Axes>"
            ],
            "image/png": "[encoded data removed]"
          },
          "metadata": {
            "needs_background": "light"
          }
        }
      ]
    },
    {
      "cell_type": "markdown",
      "source": [
        "c) Car Parking Space"
      ],
      "metadata": {
        "id": "M93UanYQBnET"
      }
    },
    {
      "cell_type": "code",
      "source": [
        "factor2 = df.groupby(['required_car_parking_spaces'])['adr'].mean()"
      ],
      "metadata": {
        "id": "3ZvDwpiXBPBI"
      },
      "execution_count": null,
      "outputs": []
    },
    {
      "cell_type": "code",
      "source": [
        "plt.rcParams['figure.figsize'] = (12,6)\n",
        "factor2.plot(kind = 'bar')\n",
        "plt.ylabel('No. of Cancellation')\n",
        "plt.xlabel('Distribution Channel')\n",
        "plt.show()"
      ],
      "metadata": {
        "colab": {
          "base_uri": "https://localhost:8080/",
          "height": 384
        },
        "id": "ccivTHp3BdO1",
        "outputId": "df384139-8c03-4d98-ca77-9c1890f73bd0"
      },
      "execution_count": null,
      "outputs": [
        {
          "output_type": "display_data",
          "data": {
            "text/plain": [
              "<Figure size 864x432 with 1 Axes>"
            ],
            "image/png": "[encoded data removed]"
          },
          "metadata": {
            "needs_background": "light"
          }
        }
      ]
    },
    {
      "cell_type": "code",
      "source": [
        ""
      ],
      "metadata": {
        "id": "MrzAlbS8KgTM"
      },
      "execution_count": null,
      "outputs": []
    },
    {
      "cell_type": "markdown",
      "source": [
        "1.when the best time of year to book a hotel room is?\n",
        "\n",
        "2.the optimal length of stay in order to get the best daily rate?\n",
        "\n",
        "3.What if you wanted to predict whether or not a hotel was likely to receive a disproportionately high number of special requests?\n",
        "\n",
        "4.factors that govern the bookings."
      ],
      "metadata": {
        "id": "e8ZYMXgGKlSu"
      }
    },
    {
      "cell_type": "code",
      "source": [
        ""
      ],
      "metadata": {
        "id": "VBf0pPYWKrSz"
      },
      "execution_count": null,
      "outputs": []
    }
  ]
}